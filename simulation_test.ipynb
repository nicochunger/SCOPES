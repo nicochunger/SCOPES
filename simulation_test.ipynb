{
 "cells": [
  {
   "cell_type": "markdown",
   "metadata": {},
   "source": [
    "# Notebook to test the Simulation module\n",
    "\n",
    "Here is the actual use case of the Simulation module. What it does:\n",
    "  - initializes it\n",
    "  - gives it the required inputs\n",
    "  - runs it\n",
    "  - analyzes the results"
   ]
  },
  {
   "cell_type": "markdown",
   "metadata": {},
   "source": [
    "## Imports"
   ]
  },
  {
   "cell_type": "code",
   "execution_count": 1,
   "metadata": {},
   "outputs": [],
   "source": [
    "from simulation import Simulation\n",
    "import pandas as pd\n",
    "import numpy as np\n",
    "from class_definitions import Program\n",
    "import itertools\n",
    "import matplotlib.colors as mcolors\n",
    "import matplotlib.pyplot as plt\n",
    "from datetime import date, datetime, timedelta\n",
    "from astroplan import Observer\n",
    "from scheduler import generateQ"
   ]
  },
  {
   "cell_type": "markdown",
   "metadata": {},
   "source": [
    "### Create the programs"
   ]
  },
  {
   "cell_type": "code",
   "execution_count": 35,
   "metadata": {},
   "outputs": [
    {
     "name": "stdout",
     "output_type": "stream",
     "text": [
      "Total time allocation:  0.9999999999999999\n"
     ]
    }
   ],
   "source": [
    "# Define the programs\n",
    "color_pallette = itertools.cycle([mcolors.rgb2hex(color) for color in plt.get_cmap(\"Set2\").colors])\n",
    "\n",
    "real_time_share = {\n",
    "    \"600\": 0.034,\n",
    "    \"703\": 0.144,\n",
    "    \"708\": 0.062,\n",
    "    \"714\": 0.045,\n",
    "    \"500\": 0.255,  # real one: 0.205,\n",
    "    \"410\": 0.161,\n",
    "}\n",
    "\n",
    "# Correct the time share so that it sums to 1\n",
    "corrected_time_share = dict(\n",
    "    zip(\n",
    "        real_time_share.keys(),\n",
    "        np.array(list(real_time_share.values())) * 1 / sum(real_time_share.values()),\n",
    "    )\n",
    ")\n",
    "\n",
    "# Eventually this would be imported from the gitlab with the files.\n",
    "prog600 = Program(600, \"COR\", corrected_time_share[\"600\"], 1, plot_color=next(color_pallette))\n",
    "prog703 = Program(703, \"COR\", corrected_time_share[\"703\"], 2, plot_color=next(color_pallette))\n",
    "prog708 = Program(708, \"COR\", corrected_time_share[\"708\"], 2, plot_color=next(color_pallette))\n",
    "prog714 = Program(714, \"COR\", corrected_time_share[\"714\"], 2, plot_color=next(color_pallette))\n",
    "prog500 = Program(500, \"COR\", corrected_time_share[\"500\"], 1, plot_color=next(color_pallette))\n",
    "prog410 = Program(410, \"CAM\", corrected_time_share[\"410\"], 0, plot_color=next(color_pallette))\n",
    "\n",
    "# Check time allocation is correct and sums to 1\n",
    "programs = [prog600, prog703, prog708, prog714, prog500, prog410]\n",
    "time_alloc = [prog.time_share_allocated for prog in programs]\n",
    "print(\"Total time allocation: \", sum(time_alloc))"
   ]
  },
  {
   "cell_type": "code",
   "execution_count": 36,
   "metadata": {},
   "outputs": [
    {
     "name": "stdout",
     "output_type": "stream",
     "text": [
      "Program(\n",
      "    ID = 600\n",
      "    Instrument = COR\n",
      "    Time allocated = 0.0485021398002853\n",
      "    Priority = 1.2)\n",
      "Program(\n",
      "    ID = 703\n",
      "    Instrument = COR\n",
      "    Time allocated = 0.20542082738944362\n",
      "    Priority = 1.0)\n",
      "Program(\n",
      "    ID = 708\n",
      "    Instrument = COR\n",
      "    Time allocated = 0.08844507845934378\n",
      "    Priority = 1.0)\n",
      "Program(\n",
      "    ID = 714\n",
      "    Instrument = COR\n",
      "    Time allocated = 0.06419400855920113\n",
      "    Priority = 1.0)\n",
      "Program(\n",
      "    ID = 500\n",
      "    Instrument = COR\n",
      "    Time allocated = 0.3637660485021398\n",
      "    Priority = 1.2)\n",
      "Program(\n",
      "    ID = 410\n",
      "    Instrument = CAM\n",
      "    Time allocated = 0.22967189728958629\n",
      "    Priority = 1.4)\n"
     ]
    }
   ],
   "source": [
    "for prog in programs:\n",
    "    print(prog)"
   ]
  },
  {
   "cell_type": "markdown",
   "metadata": {},
   "source": [
    "## Initialize the simulation"
   ]
  },
  {
   "cell_type": "code",
   "execution_count": 37,
   "metadata": {},
   "outputs": [
    {
     "name": "stdout",
     "output_type": "stream",
     "text": [
      "start_date= datetime.date(2023, 10, 2)\n",
      "end_date = datetime.date(2023, 10, 15)\n"
     ]
    }
   ],
   "source": [
    "start_date = date(2023, 10, 2)\n",
    "end_date = start_date + timedelta(days=13)\n",
    "print(f\"{start_date= }\")\n",
    "print(f\"{end_date = }\")"
   ]
  },
  {
   "cell_type": "code",
   "execution_count": 38,
   "metadata": {},
   "outputs": [
    {
     "name": "stdout",
     "output_type": "stream",
     "text": [
      "Adding program: 600COR\n",
      "Adding program: 703COR\n"
     ]
    },
    {
     "name": "stderr",
     "output_type": "stream",
     "text": [
      "WARNING: IllegalSecondWarning: 'second' was found  to be '60.0', which is not in range [0,60). Treating as 0 sec, +1 min [astropy.coordinates.angle_formats]\n"
     ]
    },
    {
     "name": "stdout",
     "output_type": "stream",
     "text": [
      "Adding program: 708COR\n",
      "Adding program: 714COR\n",
      "Adding program: 500COR\n",
      "Adding program: 410CAM\n"
     ]
    }
   ],
   "source": [
    "lasilla = Observer.at_site(\"lasilla\")\n",
    "sim = Simulation(\n",
    "    start_date,\n",
    "    end_date,\n",
    "    observer=lasilla,\n",
    "    night_within=\"nautical\",\n",
    "    scheduler_algorithm=generateQ,\n",
    "    keep_top_n=50,\n",
    ")\n",
    "\n",
    "# Add the programs\n",
    "for prog in programs:\n",
    "    sim.add_program(\n",
    "        prog,\n",
    "        f\"programs/instructions/SchedulingInstructions_{prog.progID}{prog.instrument}.csv\",\n",
    "    )"
   ]
  },
  {
   "cell_type": "code",
   "execution_count": 39,
   "metadata": {},
   "outputs": [
    {
     "name": "stdout",
     "output_type": "stream",
     "text": [
      "\n",
      "Running night: 2023-10-02\n",
      "Determining observability of targets...\n",
      "Building observations...\n"
     ]
    },
    {
     "data": {
      "application/vnd.jupyter.widget-view+json": {
       "model_id": "62fba5228c454c998fa0838896716ad1",
       "version_major": 2,
       "version_minor": 0
      },
      "text/plain": [
       "  0%|          | 0/223 [00:00<?, ?it/s]"
      ]
     },
     "metadata": {},
     "output_type": "display_data"
    },
    {
     "name": "stderr",
     "output_type": "stream",
     "text": [
      "WARNING: TargetAlwaysUpWarning: Target with index 0 does not cross horizon=20.0 deg within 24 hours [astroplan.observer]\n"
     ]
    },
    {
     "name": "stdout",
     "output_type": "stream",
     "text": [
      "Building plan...\n",
      "Updating tracking tables and saving plan...\n",
      "\n",
      "Running night: 2023-10-03\n",
      "Determining observability of targets...\n",
      "Building observations...\n"
     ]
    },
    {
     "data": {
      "application/vnd.jupyter.widget-view+json": {
       "model_id": "6712a2e4ba284756ab780b4084ac392d",
       "version_major": 2,
       "version_minor": 0
      },
      "text/plain": [
       "  0%|          | 0/206 [00:00<?, ?it/s]"
      ]
     },
     "metadata": {},
     "output_type": "display_data"
    },
    {
     "name": "stderr",
     "output_type": "stream",
     "text": [
      "WARNING: TargetAlwaysUpWarning: Target with index 0 does not cross horizon=20.0 deg within 24 hours [astroplan.observer]\n"
     ]
    },
    {
     "name": "stdout",
     "output_type": "stream",
     "text": [
      "Building plan...\n"
     ]
    },
    {
     "name": "stderr",
     "output_type": "stream",
     "text": [
      "/home/nunger/Dropbox/Postdoc/EULER Scheduling/SCOPES/SCOPES/merits.py:37: RuntimeWarning: overflow encountered in exp\n",
      "  m = 0.5 + (1 / (1 + np.exp(((pct_diff / beta) ** alpha))))\n"
     ]
    },
    {
     "name": "stdout",
     "output_type": "stream",
     "text": [
      "Updating tracking tables and saving plan...\n",
      "\n",
      "Running night: 2023-10-04\n",
      "Determining observability of targets...\n",
      "Building observations...\n"
     ]
    },
    {
     "data": {
      "application/vnd.jupyter.widget-view+json": {
       "model_id": "b66447069a6f48ad861daf2c4a0fe534",
       "version_major": 2,
       "version_minor": 0
      },
      "text/plain": [
       "  0%|          | 0/206 [00:00<?, ?it/s]"
      ]
     },
     "metadata": {},
     "output_type": "display_data"
    },
    {
     "name": "stderr",
     "output_type": "stream",
     "text": [
      "WARNING: TargetAlwaysUpWarning: Target with index 0 does not cross horizon=20.0 deg within 24 hours [astroplan.observer]\n"
     ]
    },
    {
     "name": "stdout",
     "output_type": "stream",
     "text": [
      "Building plan...\n",
      "Updating tracking tables and saving plan...\n",
      "\n",
      "Running night: 2023-10-05\n",
      "Determining observability of targets...\n",
      "Building observations...\n"
     ]
    },
    {
     "data": {
      "application/vnd.jupyter.widget-view+json": {
       "model_id": "9b0beacec6f041a1af204efe4a652268",
       "version_major": 2,
       "version_minor": 0
      },
      "text/plain": [
       "  0%|          | 0/207 [00:00<?, ?it/s]"
      ]
     },
     "metadata": {},
     "output_type": "display_data"
    },
    {
     "name": "stderr",
     "output_type": "stream",
     "text": [
      "WARNING: TargetAlwaysUpWarning: Target with index 0 does not cross horizon=20.0 deg within 24 hours [astroplan.observer]\n"
     ]
    },
    {
     "name": "stdout",
     "output_type": "stream",
     "text": [
      "Building plan...\n",
      "Updating tracking tables and saving plan...\n",
      "\n",
      "Running night: 2023-10-06\n",
      "Determining observability of targets...\n",
      "Building observations...\n"
     ]
    },
    {
     "data": {
      "application/vnd.jupyter.widget-view+json": {
       "model_id": "a7a6558ff6ea48ac9dfd8de27ade22dc",
       "version_major": 2,
       "version_minor": 0
      },
      "text/plain": [
       "  0%|          | 0/206 [00:00<?, ?it/s]"
      ]
     },
     "metadata": {},
     "output_type": "display_data"
    },
    {
     "name": "stderr",
     "output_type": "stream",
     "text": [
      "WARNING: TargetAlwaysUpWarning: Target with index 0 does not cross horizon=20.0 deg within 24 hours [astroplan.observer]\n"
     ]
    },
    {
     "name": "stdout",
     "output_type": "stream",
     "text": [
      "Building plan...\n",
      "Updating tracking tables and saving plan...\n",
      "\n",
      "Running night: 2023-10-07\n",
      "Determining observability of targets...\n",
      "Building observations...\n"
     ]
    },
    {
     "data": {
      "application/vnd.jupyter.widget-view+json": {
       "model_id": "18a53724597c44fa888dc59b1897ceab",
       "version_major": 2,
       "version_minor": 0
      },
      "text/plain": [
       "  0%|          | 0/196 [00:00<?, ?it/s]"
      ]
     },
     "metadata": {},
     "output_type": "display_data"
    },
    {
     "name": "stderr",
     "output_type": "stream",
     "text": [
      "WARNING: TargetAlwaysUpWarning: Target with index 0 does not cross horizon=20.0 deg within 24 hours [astroplan.observer]\n"
     ]
    },
    {
     "name": "stdout",
     "output_type": "stream",
     "text": [
      "Building plan...\n",
      "Updating tracking tables and saving plan...\n",
      "\n",
      "Running night: 2023-10-08\n",
      "Determining observability of targets...\n",
      "Building observations...\n"
     ]
    },
    {
     "data": {
      "application/vnd.jupyter.widget-view+json": {
       "model_id": "68da20c4df1540b5b772f16099108903",
       "version_major": 2,
       "version_minor": 0
      },
      "text/plain": [
       "  0%|          | 0/188 [00:00<?, ?it/s]"
      ]
     },
     "metadata": {},
     "output_type": "display_data"
    },
    {
     "name": "stderr",
     "output_type": "stream",
     "text": [
      "WARNING: TargetAlwaysUpWarning: Target with index 0 does not cross horizon=20.0 deg within 24 hours [astroplan.observer]\n"
     ]
    },
    {
     "name": "stdout",
     "output_type": "stream",
     "text": [
      "Building plan...\n",
      "Updating tracking tables and saving plan...\n",
      "\n",
      "Running night: 2023-10-09\n",
      "Determining observability of targets...\n",
      "Building observations...\n"
     ]
    },
    {
     "data": {
      "application/vnd.jupyter.widget-view+json": {
       "model_id": "5e8dfa1e12c54ece8291f71289c6e859",
       "version_major": 2,
       "version_minor": 0
      },
      "text/plain": [
       "  0%|          | 0/186 [00:00<?, ?it/s]"
      ]
     },
     "metadata": {},
     "output_type": "display_data"
    },
    {
     "name": "stderr",
     "output_type": "stream",
     "text": [
      "WARNING: TargetAlwaysUpWarning: Target with index 0 does not cross horizon=20.0 deg within 24 hours [astroplan.observer]\n"
     ]
    },
    {
     "name": "stdout",
     "output_type": "stream",
     "text": [
      "Building plan...\n",
      "Updating tracking tables and saving plan...\n",
      "\n",
      "Running night: 2023-10-10\n",
      "Determining observability of targets...\n",
      "Building observations...\n"
     ]
    },
    {
     "data": {
      "application/vnd.jupyter.widget-view+json": {
       "model_id": "522bf0437164409b9d581db54313b8dc",
       "version_major": 2,
       "version_minor": 0
      },
      "text/plain": [
       "  0%|          | 0/195 [00:00<?, ?it/s]"
      ]
     },
     "metadata": {},
     "output_type": "display_data"
    },
    {
     "name": "stderr",
     "output_type": "stream",
     "text": [
      "WARNING: TargetAlwaysUpWarning: Target with index 0 does not cross horizon=20.0 deg within 24 hours [astroplan.observer]\n"
     ]
    },
    {
     "name": "stdout",
     "output_type": "stream",
     "text": [
      "Building plan...\n",
      "Updating tracking tables and saving plan...\n",
      "\n",
      "Running night: 2023-10-11\n",
      "Determining observability of targets...\n",
      "Building observations...\n"
     ]
    },
    {
     "data": {
      "application/vnd.jupyter.widget-view+json": {
       "model_id": "24796a81ab7c469ba18e9cc759ed1863",
       "version_major": 2,
       "version_minor": 0
      },
      "text/plain": [
       "  0%|          | 0/184 [00:00<?, ?it/s]"
      ]
     },
     "metadata": {},
     "output_type": "display_data"
    },
    {
     "name": "stderr",
     "output_type": "stream",
     "text": [
      "WARNING: TargetAlwaysUpWarning: Target with index 0 does not cross horizon=20.0 deg within 24 hours [astroplan.observer]\n"
     ]
    },
    {
     "name": "stdout",
     "output_type": "stream",
     "text": [
      "Building plan...\n",
      "Updating tracking tables and saving plan...\n",
      "\n",
      "Running night: 2023-10-12\n",
      "Determining observability of targets...\n",
      "Building observations...\n"
     ]
    },
    {
     "data": {
      "application/vnd.jupyter.widget-view+json": {
       "model_id": "3727aa04356f44dba5bde862e60383ba",
       "version_major": 2,
       "version_minor": 0
      },
      "text/plain": [
       "  0%|          | 0/171 [00:00<?, ?it/s]"
      ]
     },
     "metadata": {},
     "output_type": "display_data"
    },
    {
     "name": "stderr",
     "output_type": "stream",
     "text": [
      "WARNING: TargetAlwaysUpWarning: Target with index 0 does not cross horizon=20.0 deg within 24 hours [astroplan.observer]\n"
     ]
    },
    {
     "name": "stdout",
     "output_type": "stream",
     "text": [
      "Building plan...\n",
      "Updating tracking tables and saving plan...\n",
      "\n",
      "Running night: 2023-10-13\n",
      "Determining observability of targets...\n",
      "Building observations...\n"
     ]
    },
    {
     "data": {
      "application/vnd.jupyter.widget-view+json": {
       "model_id": "d1ed037429f046e2974ca60982e3fa74",
       "version_major": 2,
       "version_minor": 0
      },
      "text/plain": [
       "  0%|          | 0/169 [00:00<?, ?it/s]"
      ]
     },
     "metadata": {},
     "output_type": "display_data"
    },
    {
     "name": "stderr",
     "output_type": "stream",
     "text": [
      "WARNING: TargetAlwaysUpWarning: Target with index 0 does not cross horizon=20.0 deg within 24 hours [astroplan.observer]\n"
     ]
    },
    {
     "name": "stdout",
     "output_type": "stream",
     "text": [
      "Building plan...\n",
      "Updating tracking tables and saving plan...\n",
      "\n",
      "Running night: 2023-10-14\n",
      "Determining observability of targets...\n",
      "Building observations...\n"
     ]
    },
    {
     "data": {
      "application/vnd.jupyter.widget-view+json": {
       "model_id": "38891613470148568678e2eca98590ad",
       "version_major": 2,
       "version_minor": 0
      },
      "text/plain": [
       "  0%|          | 0/170 [00:00<?, ?it/s]"
      ]
     },
     "metadata": {},
     "output_type": "display_data"
    },
    {
     "name": "stderr",
     "output_type": "stream",
     "text": [
      "WARNING: TargetAlwaysUpWarning: Target with index 0 does not cross horizon=20.0 deg within 24 hours [astroplan.observer]\n"
     ]
    },
    {
     "name": "stdout",
     "output_type": "stream",
     "text": [
      "Building plan...\n",
      "Updating tracking tables and saving plan...\n",
      "\n",
      "Running night: 2023-10-15\n",
      "Determining observability of targets...\n",
      "Building observations...\n"
     ]
    },
    {
     "data": {
      "application/vnd.jupyter.widget-view+json": {
       "model_id": "5b36ecfa275547b9857bd952446616bb",
       "version_major": 2,
       "version_minor": 0
      },
      "text/plain": [
       "  0%|          | 0/161 [00:00<?, ?it/s]"
      ]
     },
     "metadata": {},
     "output_type": "display_data"
    },
    {
     "name": "stderr",
     "output_type": "stream",
     "text": [
      "WARNING: TargetAlwaysUpWarning: Target with index 0 does not cross horizon=20.0 deg within 24 hours [astroplan.observer]\n"
     ]
    },
    {
     "name": "stdout",
     "output_type": "stream",
     "text": [
      "Building plan...\n",
      "Updating tracking tables and saving plan...\n"
     ]
    }
   ],
   "source": [
    "# Run the simulation\n",
    "plans, observation_history, night_history = sim.run()"
   ]
  },
  {
   "cell_type": "code",
   "execution_count": 40,
   "metadata": {},
   "outputs": [
    {
     "data": {
      "image/png": "[encoded data removed]",
      "text/plain": [
       "<Figure size 800x1000 with 2 Axes>"
      ]
     },
     "metadata": {},
     "output_type": "display_data"
    }
   ],
   "source": [
    "sim.plot_time_share(display=True)"
   ]
  },
  {
   "cell_type": "code",
   "execution_count": 41,
   "metadata": {},
   "outputs": [
    {
     "name": "stdout",
     "output_type": "stream",
     "text": [
      "prog.progID = 703\n",
      "\n",
      "allocated = 0.20542082738944362\n",
      "current = 0.24445893089960882\n",
      "pct_diff = 0.039038103510165206\n"
     ]
    }
   ],
   "source": [
    "obs = sim.plans[1].observations[4]\n",
    "prog = obs.target.program\n",
    "print(f\"{prog.progID = }\\n\")\n",
    "\n",
    "print(f\"allocated = {prog.time_share_allocated}\")\n",
    "print(f\"current = {prog.time_share_current}\")\n",
    "print(f\"pct_diff = {prog.time_share_pct_diff}\")"
   ]
  },
  {
   "cell_type": "code",
   "execution_count": 42,
   "metadata": {},
   "outputs": [
    {
     "name": "stdout",
     "output_type": "stream",
     "text": [
      "Priorities:\n",
      "1.0\n",
      "0.05\n"
     ]
    }
   ],
   "source": [
    "print(\"Priorities:\")\n",
    "print(obs.target.program.priority)\n",
    "print(obs.target.priority)"
   ]
  },
  {
   "cell_type": "code",
   "execution_count": 43,
   "metadata": {},
   "outputs": [
    {
     "name": "stdout",
     "output_type": "stream",
     "text": [
      "time_share_merit = 0.9279718945662709\n"
     ]
    }
   ],
   "source": [
    "time_share_merit = np.prod([merit.evaluate(obs) for merit in obs.target.fairness_merits])\n",
    "print(f\"{time_share_merit = }\")"
   ]
  },
  {
   "cell_type": "code",
   "execution_count": 44,
   "metadata": {},
   "outputs": [
    {
     "data": {
      "text/plain": [
       "0.9743704892945845"
      ]
     },
     "execution_count": 44,
     "metadata": {},
     "output_type": "execute_result"
    }
   ],
   "source": [
    "obs.fairness()"
   ]
  },
  {
   "cell_type": "code",
   "execution_count": 45,
   "metadata": {},
   "outputs": [
    {
     "data": {
      "text/plain": [
       "[Merit(CulMapping, efficiency, {})]"
      ]
     },
     "execution_count": 45,
     "metadata": {},
     "output_type": "execute_result"
    }
   ],
   "source": [
    "obs.target.efficiency_merits"
   ]
  },
  {
   "cell_type": "code",
   "execution_count": 46,
   "metadata": {},
   "outputs": [
    {
     "name": "stdout",
     "output_type": "stream",
     "text": [
      "Fairness: 0.9743704892945845\n",
      "Sensibility: 1.0\n",
      "Efficiency: 0.9999462038623945\n",
      "Rank score: 0.9743180719256637\n"
     ]
    },
    {
     "data": {
      "text/plain": [
       "0.9743180719256637"
      ]
     },
     "execution_count": 46,
     "metadata": {},
     "output_type": "execute_result"
    }
   ],
   "source": [
    "obs.evaluate_score(True)"
   ]
  },
  {
   "cell_type": "markdown",
   "metadata": {},
   "source": [
    "## Random tests for development"
   ]
  },
  {
   "cell_type": "code",
   "execution_count": 20,
   "metadata": {},
   "outputs": [],
   "source": [
    "# night = Night(date(2023, 9, 20), \"nautical\", lasilla)"
   ]
  },
  {
   "cell_type": "code",
   "execution_count": 26,
   "metadata": {},
   "outputs": [
    {
     "data": {
      "text/html": [
       "<div>\n",
       "<style scoped>\n",
       "    .dataframe tbody tr th:only-of-type {\n",
       "        vertical-align: middle;\n",
       "    }\n",
       "\n",
       "    .dataframe tbody tr th {\n",
       "        vertical-align: top;\n",
       "    }\n",
       "\n",
       "    .dataframe thead th {\n",
       "        text-align: right;\n",
       "    }\n",
       "</style>\n",
       "<table border=\"1\" class=\"dataframe\">\n",
       "  <thead>\n",
       "    <tr style=\"text-align: right;\">\n",
       "      <th></th>\n",
       "      <th>target</th>\n",
       "      <th>program</th>\n",
       "      <th>obs_time</th>\n",
       "      <th>obs_date</th>\n",
       "      <th>score</th>\n",
       "    </tr>\n",
       "  </thead>\n",
       "  <tbody>\n",
       "    <tr>\n",
       "      <th>0</th>\n",
       "      <td>HD20794</td>\n",
       "      <td>703</td>\n",
       "      <td>50000.494720</td>\n",
       "      <td>NaN</td>\n",
       "      <td>NaN</td>\n",
       "    </tr>\n",
       "    <tr>\n",
       "      <th>1</th>\n",
       "      <td>HD158198</td>\n",
       "      <td>703</td>\n",
       "      <td>50012.663038</td>\n",
       "      <td>NaN</td>\n",
       "      <td>NaN</td>\n",
       "    </tr>\n",
       "    <tr>\n",
       "      <th>2</th>\n",
       "      <td>HD144585</td>\n",
       "      <td>703</td>\n",
       "      <td>50016.682201</td>\n",
       "      <td>NaN</td>\n",
       "      <td>NaN</td>\n",
       "    </tr>\n",
       "    <tr>\n",
       "      <th>3</th>\n",
       "      <td>HD190248</td>\n",
       "      <td>703</td>\n",
       "      <td>50031.230765</td>\n",
       "      <td>NaN</td>\n",
       "      <td>NaN</td>\n",
       "    </tr>\n",
       "    <tr>\n",
       "      <th>4</th>\n",
       "      <td>HD20794</td>\n",
       "      <td>703</td>\n",
       "      <td>50031.346652</td>\n",
       "      <td>NaN</td>\n",
       "      <td>NaN</td>\n",
       "    </tr>\n",
       "    <tr>\n",
       "      <th>5</th>\n",
       "      <td>HD190248</td>\n",
       "      <td>703</td>\n",
       "      <td>50034.372995</td>\n",
       "      <td>NaN</td>\n",
       "      <td>NaN</td>\n",
       "    </tr>\n",
       "    <tr>\n",
       "      <th>6</th>\n",
       "      <td>HD192310</td>\n",
       "      <td>703</td>\n",
       "      <td>50054.538136</td>\n",
       "      <td>NaN</td>\n",
       "      <td>NaN</td>\n",
       "    </tr>\n",
       "    <tr>\n",
       "      <th>7</th>\n",
       "      <td>HD108309</td>\n",
       "      <td>703</td>\n",
       "      <td>50068.926258</td>\n",
       "      <td>NaN</td>\n",
       "      <td>NaN</td>\n",
       "    </tr>\n",
       "    <tr>\n",
       "      <th>8</th>\n",
       "      <td>HD161612</td>\n",
       "      <td>703</td>\n",
       "      <td>50076.414902</td>\n",
       "      <td>NaN</td>\n",
       "      <td>NaN</td>\n",
       "    </tr>\n",
       "    <tr>\n",
       "      <th>9</th>\n",
       "      <td>HD108309</td>\n",
       "      <td>703</td>\n",
       "      <td>50082.576663</td>\n",
       "      <td>NaN</td>\n",
       "      <td>NaN</td>\n",
       "    </tr>\n",
       "    <tr>\n",
       "      <th>10</th>\n",
       "      <td>HD192310</td>\n",
       "      <td>703</td>\n",
       "      <td>50092.986043</td>\n",
       "      <td>NaN</td>\n",
       "      <td>NaN</td>\n",
       "    </tr>\n",
       "    <tr>\n",
       "      <th>11</th>\n",
       "      <td>HD10700</td>\n",
       "      <td>703</td>\n",
       "      <td>50095.655811</td>\n",
       "      <td>NaN</td>\n",
       "      <td>NaN</td>\n",
       "    </tr>\n",
       "  </tbody>\n",
       "</table>\n",
       "</div>"
      ],
      "text/plain": [
       "      target  program      obs_time obs_date score\n",
       "0    HD20794      703  50000.494720      NaN   NaN\n",
       "1   HD158198      703  50012.663038      NaN   NaN\n",
       "2   HD144585      703  50016.682201      NaN   NaN\n",
       "3   HD190248      703  50031.230765      NaN   NaN\n",
       "4    HD20794      703  50031.346652      NaN   NaN\n",
       "5   HD190248      703  50034.372995      NaN   NaN\n",
       "6   HD192310      703  50054.538136      NaN   NaN\n",
       "7   HD108309      703  50068.926258      NaN   NaN\n",
       "8   HD161612      703  50076.414902      NaN   NaN\n",
       "9   HD108309      703  50082.576663      NaN   NaN\n",
       "10  HD192310      703  50092.986043      NaN   NaN\n",
       "11   HD10700      703  50095.655811      NaN   NaN"
      ]
     },
     "execution_count": 26,
     "metadata": {},
     "output_type": "execute_result"
    }
   ],
   "source": [
    "cat = pd.read_csv(sim.programs[prog600][\"file\"])\n",
    "\n",
    "observation_history = pd.DataFrame(columns=[\"target\", \"program\", \"obs_time\", \"obs_date\", \"score\"])\n",
    "\n",
    "# Generate some dummy data\n",
    "observation_history = (\n",
    "    observation_history.assign(target=np.concatenate([cat[\"catalog_name\"], cat[\"catalog_name\"]]))\n",
    "    .assign(program=prog703.progID)\n",
    "    .assign(obs_time=(np.random.random(len(cat) * 2) * 100) + 50000)\n",
    "    .sort_values(by=\"obs_time\")\n",
    "    .drop(index=np.random.randint(0, len(cat) * 2, 10))\n",
    "    .reset_index(drop=True)\n",
    ")\n",
    "\n",
    "# print the observation_history table\n",
    "observation_history"
   ]
  },
  {
   "cell_type": "code",
   "execution_count": 27,
   "metadata": {},
   "outputs": [
    {
     "data": {
      "text/plain": [
       "0      HD1581\n",
       "1     HD10700\n",
       "2     HD20794\n",
       "3    HD65907A\n",
       "4    HD108309\n",
       "5    HD144585\n",
       "6    HD158198\n",
       "7    HD161612\n",
       "8    HD190248\n",
       "9    HD192310\n",
       "Name: catalog_name, dtype: object"
      ]
     },
     "execution_count": 27,
     "metadata": {},
     "output_type": "execute_result"
    }
   ],
   "source": [
    "cat[\"catalog_name\"]"
   ]
  },
  {
   "cell_type": "code",
   "execution_count": 28,
   "metadata": {},
   "outputs": [
    {
     "data": {
      "text/plain": [
       "0        0.000000\n",
       "1    50095.655811\n",
       "2    50031.346652\n",
       "3        0.000000\n",
       "4    50082.576663\n",
       "5    50016.682201\n",
       "6    50012.663038\n",
       "7    50076.414902\n",
       "8    50034.372995\n",
       "9    50092.986043\n",
       "Name: catalog_name, dtype: float64"
      ]
     },
     "execution_count": 28,
     "metadata": {},
     "output_type": "execute_result"
    }
   ],
   "source": [
    "last_observation_dates = cat[\"catalog_name\"].apply(\n",
    "    lambda x: observation_history.loc[observation_history[\"target\"] == x][\"obs_time\"].max()\n",
    "    if x in observation_history[\"target\"].unique()\n",
    "    else 0\n",
    ")\n",
    "\n",
    "last_observation_dates"
   ]
  },
  {
   "cell_type": "code",
   "execution_count": 29,
   "metadata": {},
   "outputs": [
    {
     "data": {
      "text/html": [
       "<div>\n",
       "<style scoped>\n",
       "    .dataframe tbody tr th:only-of-type {\n",
       "        vertical-align: middle;\n",
       "    }\n",
       "\n",
       "    .dataframe tbody tr th {\n",
       "        vertical-align: top;\n",
       "    }\n",
       "\n",
       "    .dataframe thead th {\n",
       "        text-align: right;\n",
       "    }\n",
       "</style>\n",
       "<table border=\"1\" class=\"dataframe\">\n",
       "  <thead>\n",
       "    <tr style=\"text-align: right;\">\n",
       "      <th></th>\n",
       "      <th>catalog_name</th>\n",
       "      <th>simbad_id</th>\n",
       "      <th>ra</th>\n",
       "      <th>dec</th>\n",
       "      <th>texp</th>\n",
       "      <th>priority</th>\n",
       "      <th>cadence</th>\n",
       "      <th>comments_for_observer</th>\n",
       "      <th>last_obs</th>\n",
       "      <th>pct_overdue</th>\n",
       "      <th>score</th>\n",
       "    </tr>\n",
       "  </thead>\n",
       "  <tbody>\n",
       "    <tr>\n",
       "      <th>1</th>\n",
       "      <td>HD10700</td>\n",
       "      <td>* tau Cet</td>\n",
       "      <td>01:44:04.0831</td>\n",
       "      <td>-15:56:14.927</td>\n",
       "      <td>1200</td>\n",
       "      <td>0</td>\n",
       "      <td>7</td>\n",
       "      <td>NaN</td>\n",
       "      <td>50095.655811</td>\n",
       "      <td>2.477741</td>\n",
       "      <td>0.0</td>\n",
       "    </tr>\n",
       "    <tr>\n",
       "      <th>8</th>\n",
       "      <td>HD190248</td>\n",
       "      <td>* del Pav</td>\n",
       "      <td>20:08:43.6088</td>\n",
       "      <td>-66:10:55.442</td>\n",
       "      <td>1200</td>\n",
       "      <td>0</td>\n",
       "      <td>7</td>\n",
       "      <td>NaN</td>\n",
       "      <td>50034.372995</td>\n",
       "      <td>11.232429</td>\n",
       "      <td>0.0</td>\n",
       "    </tr>\n",
       "    <tr>\n",
       "      <th>6</th>\n",
       "      <td>HD158198</td>\n",
       "      <td>HD 158198</td>\n",
       "      <td>17:29:25.5978</td>\n",
       "      <td>-33:45:38.071</td>\n",
       "      <td>1200</td>\n",
       "      <td>0</td>\n",
       "      <td>7</td>\n",
       "      <td>NaN</td>\n",
       "      <td>50012.663038</td>\n",
       "      <td>14.333852</td>\n",
       "      <td>0.0</td>\n",
       "    </tr>\n",
       "    <tr>\n",
       "      <th>7</th>\n",
       "      <td>HD161612</td>\n",
       "      <td>HD 161612</td>\n",
       "      <td>17:47:57.5496</td>\n",
       "      <td>-34:01:07.948</td>\n",
       "      <td>1200</td>\n",
       "      <td>0</td>\n",
       "      <td>7</td>\n",
       "      <td>NaN</td>\n",
       "      <td>50076.414902</td>\n",
       "      <td>5.226443</td>\n",
       "      <td>0.0</td>\n",
       "    </tr>\n",
       "    <tr>\n",
       "      <th>0</th>\n",
       "      <td>HD1581</td>\n",
       "      <td>* zet Tuc</td>\n",
       "      <td>00:20:04.2586</td>\n",
       "      <td>-64:52:29.257</td>\n",
       "      <td>1200</td>\n",
       "      <td>0</td>\n",
       "      <td>7</td>\n",
       "      <td>NaN</td>\n",
       "      <td>0.000000</td>\n",
       "      <td>7159.000000</td>\n",
       "      <td>0.0</td>\n",
       "    </tr>\n",
       "    <tr>\n",
       "      <th>5</th>\n",
       "      <td>HD144585</td>\n",
       "      <td>HD 144585</td>\n",
       "      <td>16:07:03.3696</td>\n",
       "      <td>-14:04:16.671</td>\n",
       "      <td>1200</td>\n",
       "      <td>0</td>\n",
       "      <td>7</td>\n",
       "      <td>NaN</td>\n",
       "      <td>50016.682201</td>\n",
       "      <td>13.759686</td>\n",
       "      <td>0.0</td>\n",
       "    </tr>\n",
       "    <tr>\n",
       "      <th>4</th>\n",
       "      <td>HD108309</td>\n",
       "      <td>HD 108309</td>\n",
       "      <td>12:26:48.1417</td>\n",
       "      <td>-48:54:47.499</td>\n",
       "      <td>1200</td>\n",
       "      <td>0</td>\n",
       "      <td>7</td>\n",
       "      <td>NaN</td>\n",
       "      <td>50082.576663</td>\n",
       "      <td>4.346191</td>\n",
       "      <td>0.0</td>\n",
       "    </tr>\n",
       "    <tr>\n",
       "      <th>2</th>\n",
       "      <td>HD20794</td>\n",
       "      <td>* e Eri</td>\n",
       "      <td>03:19:55.6509</td>\n",
       "      <td>-43:04:11.215</td>\n",
       "      <td>1200</td>\n",
       "      <td>0</td>\n",
       "      <td>7</td>\n",
       "      <td>NaN</td>\n",
       "      <td>50031.346652</td>\n",
       "      <td>11.664764</td>\n",
       "      <td>0.0</td>\n",
       "    </tr>\n",
       "    <tr>\n",
       "      <th>9</th>\n",
       "      <td>HD192310</td>\n",
       "      <td>HD 192310</td>\n",
       "      <td>20:15:17.3913</td>\n",
       "      <td>-27:01:58.711</td>\n",
       "      <td>1200</td>\n",
       "      <td>0</td>\n",
       "      <td>7</td>\n",
       "      <td>NaN</td>\n",
       "      <td>50092.986043</td>\n",
       "      <td>2.859137</td>\n",
       "      <td>0.0</td>\n",
       "    </tr>\n",
       "    <tr>\n",
       "      <th>3</th>\n",
       "      <td>HD65907A</td>\n",
       "      <td>HD  65907</td>\n",
       "      <td>07:57:46.9142</td>\n",
       "      <td>-60:18:11.058</td>\n",
       "      <td>1200</td>\n",
       "      <td>0</td>\n",
       "      <td>7</td>\n",
       "      <td>NaN</td>\n",
       "      <td>0.000000</td>\n",
       "      <td>7159.000000</td>\n",
       "      <td>0.0</td>\n",
       "    </tr>\n",
       "  </tbody>\n",
       "</table>\n",
       "</div>"
      ],
      "text/plain": [
       "  catalog_name  simbad_id             ra            dec  texp  priority  \\\n",
       "1      HD10700  * tau Cet  01:44:04.0831  -15:56:14.927  1200         0   \n",
       "8     HD190248  * del Pav  20:08:43.6088  -66:10:55.442  1200         0   \n",
       "6     HD158198  HD 158198  17:29:25.5978  -33:45:38.071  1200         0   \n",
       "7     HD161612  HD 161612  17:47:57.5496  -34:01:07.948  1200         0   \n",
       "0       HD1581  * zet Tuc  00:20:04.2586  -64:52:29.257  1200         0   \n",
       "5     HD144585  HD 144585  16:07:03.3696  -14:04:16.671  1200         0   \n",
       "4     HD108309  HD 108309  12:26:48.1417  -48:54:47.499  1200         0   \n",
       "2      HD20794    * e Eri  03:19:55.6509  -43:04:11.215  1200         0   \n",
       "9     HD192310  HD 192310  20:15:17.3913  -27:01:58.711  1200         0   \n",
       "3     HD65907A  HD  65907  07:57:46.9142  -60:18:11.058  1200         0   \n",
       "\n",
       "   cadence  comments_for_observer      last_obs  pct_overdue  score  \n",
       "1        7                    NaN  50095.655811     2.477741    0.0  \n",
       "8        7                    NaN  50034.372995    11.232429    0.0  \n",
       "6        7                    NaN  50012.663038    14.333852    0.0  \n",
       "7        7                    NaN  50076.414902     5.226443    0.0  \n",
       "0        7                    NaN      0.000000  7159.000000    0.0  \n",
       "5        7                    NaN  50016.682201    13.759686    0.0  \n",
       "4        7                    NaN  50082.576663     4.346191    0.0  \n",
       "2        7                    NaN  50031.346652    11.664764    0.0  \n",
       "9        7                    NaN  50092.986043     2.859137    0.0  \n",
       "3        7                    NaN      0.000000  7159.000000    0.0  "
      ]
     },
     "execution_count": 29,
     "metadata": {},
     "output_type": "execute_result"
    }
   ],
   "source": [
    "cat_mod = (\n",
    "    cat.assign(last_obs=last_observation_dates)\n",
    "    .assign(pct_overdue=lambda df: (50120 - (df[\"last_obs\"] + df[\"cadence\"])) / df[\"cadence\"])\n",
    "    .assign(score=lambda df: df[\"priority\"] / df[\"pct_overdue\"])\n",
    "    # .assign(keep=lambda df: (df[\"pct_overdue\"] > 0) & (df[\"score\"] <= df[\"score\"].quantile(0.75)))\n",
    ")\n",
    "cat_mod.sample(10)"
   ]
  },
  {
   "cell_type": "code",
   "execution_count": null,
   "metadata": {},
   "outputs": [],
   "source": [
    "# Filter cat_mod for observable targets\n",
    "observable_cat_mod = cat_mod[keep]\n",
    "\n",
    "# Filter for pct_overdue > 0 and sort by score in ascending order\n",
    "filtered_sorted = observable_cat_mod[observable_cat_mod[\"pct_overdue\"] > 0].sort_values(\n",
    "    by=\"score\", ascending=True\n",
    ")\n",
    "\n",
    "# Take the top 50 targets\n",
    "top_50 = filtered_sorted.head(50)\n",
    "\n",
    "# Create a boolean series for marking top 50 targets\n",
    "top_50_marks = cat_mod[\"catalog_name\"].isin(top_50.index)"
   ]
  },
  {
   "cell_type": "code",
   "execution_count": 30,
   "metadata": {},
   "outputs": [],
   "source": [
    "# Filter for pct_overdue > 0 and sort by score in ascending order\n",
    "filtered_sorted = cat_mod[cat_mod[\"pct_overdue\"] > 0].sort_values(by=\"score\", ascending=True)\n",
    "\n",
    "# Take the top 50 targets\n",
    "top_50 = filtered_sorted.head(50)\n",
    "\n",
    "# Create a boolean series for marking top 50 targets\n",
    "top_50_marks = cat_mod.index.isin(top_50.index)"
   ]
  },
  {
   "cell_type": "code",
   "execution_count": 31,
   "metadata": {},
   "outputs": [
    {
     "data": {
      "text/plain": [
       "(array([0, 1, 2, 3, 4, 5, 6, 7, 8, 9]),)"
      ]
     },
     "execution_count": 31,
     "metadata": {},
     "output_type": "execute_result"
    }
   ],
   "source": [
    "np.where(top_50_marks)"
   ]
  },
  {
   "cell_type": "code",
   "execution_count": 14,
   "metadata": {},
   "outputs": [
    {
     "data": {
      "text/plain": [
       "array([ True,  True, False,  True,  True,  True,  True, False, False,\n",
       "       False,  True,  True,  True, False,  True, False,  True,  True,\n",
       "        True, False,  True,  True,  True,  True,  True,  True, False,\n",
       "        True,  True, False,  True,  True,  True,  True, False, False,\n",
       "       False,  True,  True,  True, False, False,  True, False,  True,\n",
       "        True, False,  True, False, False, False,  True,  True,  True,\n",
       "        True,  True,  True, False,  True,  True, False, False,  True,\n",
       "        True,  True,  True,  True,  True,  True,  True,  True,  True,\n",
       "       False,  True,  True,  True, False, False,  True,  True,  True,\n",
       "        True,  True,  True, False,  True, False,  True,  True,  True,\n",
       "       False,  True, False, False,  True,  True,  True, False,  True,\n",
       "        True,  True,  True, False, False, False,  True])"
      ]
     },
     "execution_count": 14,
     "metadata": {},
     "output_type": "execute_result"
    }
   ],
   "source": [
    "cat_mod[\"keep\"].values"
   ]
  },
  {
   "cell_type": "code",
   "execution_count": null,
   "metadata": {},
   "outputs": [],
   "source": []
  }
 ],
 "metadata": {
  "kernelspec": {
   "display_name": "py311",
   "language": "python",
   "name": "python3"
  },
  "language_info": {
   "codemirror_mode": {
    "name": "ipython",
    "version": 3
   },
   "file_extension": ".py",
   "mimetype": "text/x-python",
   "name": "python",
   "nbconvert_exporter": "python",
   "pygments_lexer": "ipython3",
   "version": "3.11.5"
  }
 },
 "nbformat": 4,
 "nbformat_minor": 2
}
