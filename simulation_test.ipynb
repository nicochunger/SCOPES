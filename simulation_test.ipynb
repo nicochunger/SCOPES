{
 "cells": [
  {
   "cell_type": "markdown",
   "metadata": {},
   "source": [
    "# Notebook to test the Simulation module\n",
    "\n",
    "Here is the actual use case of the Simulation module. What it does:\n",
    "  - initializes it\n",
    "  - gives it the required inputs\n",
    "  - runs it\n",
    "  - analyzes the results"
   ]
  },
  {
   "cell_type": "markdown",
   "metadata": {},
   "source": [
    "## Imports"
   ]
  },
  {
   "cell_type": "code",
   "execution_count": 1,
   "metadata": {},
   "outputs": [],
   "source": [
    "from simulation import Simulation\n",
    "import pandas as pd\n",
    "import numpy as np\n",
    "from class_definitions import Program\n",
    "import itertools\n",
    "import matplotlib.colors as mcolors\n",
    "import matplotlib.pyplot as plt\n",
    "from datetime import date, datetime, timedelta\n",
    "from astroplan import Observer\n",
    "from scheduler import generateQ"
   ]
  },
  {
   "cell_type": "markdown",
   "metadata": {},
   "source": [
    "### Create the programs"
   ]
  },
  {
   "cell_type": "code",
   "execution_count": 7,
   "metadata": {},
   "outputs": [
    {
     "name": "stdout",
     "output_type": "stream",
     "text": [
      "Total time allocation:  1.0\n"
     ]
    }
   ],
   "source": [
    "# Define the programs\n",
    "color_pallette = itertools.cycle([mcolors.rgb2hex(color) for color in plt.get_cmap(\"Set2\").colors])\n",
    "\n",
    "real_time_share = {\n",
    "    \"600\": 0.034,\n",
    "    \"703\": 0.144,\n",
    "    \"708\": 0.062,\n",
    "    \"714\": 0.045,\n",
    "    \"500\": 0.055,  # real one: 0.205,\n",
    "    \"410\": 0.161,\n",
    "}\n",
    "\n",
    "# Correct the time share so that it sums to 1\n",
    "corrected_time_share = dict(\n",
    "    zip(\n",
    "        real_time_share.keys(),\n",
    "        np.array(list(real_time_share.values())) * 1 / sum(real_time_share.values()),\n",
    "    )\n",
    ")\n",
    "\n",
    "# Eventually this would be imported from the gitlab with the files.\n",
    "prog600 = Program(600, \"COR\", corrected_time_share[\"600\"], 1, plot_color=next(color_pallette))\n",
    "prog703 = Program(703, \"COR\", corrected_time_share[\"703\"], 2, plot_color=next(color_pallette))\n",
    "prog708 = Program(708, \"COR\", corrected_time_share[\"708\"], 2, plot_color=next(color_pallette))\n",
    "prog714 = Program(714, \"COR\", corrected_time_share[\"714\"], 2, plot_color=next(color_pallette))\n",
    "prog500 = Program(500, \"COR\", corrected_time_share[\"500\"], 1, plot_color=next(color_pallette))\n",
    "prog410 = Program(410, \"CAM\", corrected_time_share[\"410\"], 0, plot_color=next(color_pallette))\n",
    "\n",
    "# Check time allocation is correct and sums to 1\n",
    "programs = [prog600, prog703, prog708, prog714, prog500, prog410]\n",
    "time_alloc = [prog.time_share_allocated for prog in programs]\n",
    "print(\"Total time allocation: \", sum(time_alloc))"
   ]
  },
  {
   "cell_type": "code",
   "execution_count": 8,
   "metadata": {},
   "outputs": [
    {
     "name": "stdout",
     "output_type": "stream",
     "text": [
      "Program(\n",
      "    ID = 600\n",
      "    Instrument = COR\n",
      "    Time allocated = 0.06786427145708583\n",
      "    Priority = 1.2)\n",
      "Program(\n",
      "    ID = 703\n",
      "    Instrument = COR\n",
      "    Time allocated = 0.2874251497005988\n",
      "    Priority = 1.0)\n",
      "Program(\n",
      "    ID = 708\n",
      "    Instrument = COR\n",
      "    Time allocated = 0.12375249500998003\n",
      "    Priority = 1.0)\n",
      "Program(\n",
      "    ID = 714\n",
      "    Instrument = COR\n",
      "    Time allocated = 0.08982035928143713\n",
      "    Priority = 1.0)\n",
      "Program(\n",
      "    ID = 500\n",
      "    Instrument = COR\n",
      "    Time allocated = 0.10978043912175649\n",
      "    Priority = 1.2)\n",
      "Program(\n",
      "    ID = 410\n",
      "    Instrument = CAM\n",
      "    Time allocated = 0.3213572854291417\n",
      "    Priority = 1.4)\n"
     ]
    }
   ],
   "source": [
    "for prog in programs:\n",
    "    print(prog)"
   ]
  },
  {
   "cell_type": "markdown",
   "metadata": {},
   "source": [
    "## Initialize the simulation"
   ]
  },
  {
   "cell_type": "code",
   "execution_count": 10,
   "metadata": {},
   "outputs": [
    {
     "name": "stdout",
     "output_type": "stream",
     "text": [
      "start_date= datetime.date(2023, 10, 2)\n",
      "end_date = datetime.date(2023, 10, 6)\n"
     ]
    }
   ],
   "source": [
    "start_date = date(2023, 10, 2)\n",
    "end_date = start_date + timedelta(days=4)\n",
    "print(f\"{start_date= }\")\n",
    "print(f\"{end_date = }\")"
   ]
  },
  {
   "cell_type": "code",
   "execution_count": 11,
   "metadata": {},
   "outputs": [
    {
     "name": "stdout",
     "output_type": "stream",
     "text": [
      "Adding program: 600COR\n",
      "Adding program: 703COR\n"
     ]
    },
    {
     "name": "stderr",
     "output_type": "stream",
     "text": [
      "WARNING: IllegalSecondWarning: 'second' was found  to be '60.0', which is not in range [0,60). Treating as 0 sec, +1 min [astropy.coordinates.angle_formats]\n"
     ]
    },
    {
     "name": "stdout",
     "output_type": "stream",
     "text": [
      "Adding program: 708COR\n",
      "Adding program: 714COR\n",
      "Adding program: 500COR\n",
      "Adding program: 410CAM\n"
     ]
    }
   ],
   "source": [
    "lasilla = Observer.at_site(\"lasilla\")\n",
    "sim = Simulation(\n",
    "    start_date, end_date, observer=lasilla, night_within=\"nautical\", scheduler_algorithm=generateQ\n",
    ")\n",
    "\n",
    "# Add the programs\n",
    "for prog in programs:\n",
    "    sim.add_program(\n",
    "        prog,\n",
    "        f\"programs/instructions/SchedulingInstructions_{prog.progID}{prog.instrument}.csv\",\n",
    "    )"
   ]
  },
  {
   "cell_type": "code",
   "execution_count": 12,
   "metadata": {},
   "outputs": [
    {
     "name": "stdout",
     "output_type": "stream",
     "text": [
      "\n",
      "Running night: 2023-10-02\n",
      "Determining observability of targets...\n",
      "Building observations...\n"
     ]
    },
    {
     "data": {
      "application/vnd.jupyter.widget-view+json": {
       "model_id": "7f87c10805544521b95e0d7aa5216607",
       "version_major": 2,
       "version_minor": 0
      },
      "text/plain": [
       "  0%|          | 0/186 [00:00<?, ?it/s]"
      ]
     },
     "metadata": {},
     "output_type": "display_data"
    },
    {
     "name": "stderr",
     "output_type": "stream",
     "text": [
      "WARNING: TargetAlwaysUpWarning: Target with index 0 does not cross horizon=20.0 deg within 24 hours [astroplan.observer]\n"
     ]
    },
    {
     "name": "stdout",
     "output_type": "stream",
     "text": [
      "Building plan...\n",
      "Updating tracking tables and saving plan...\n"
     ]
    },
    {
     "name": "stderr",
     "output_type": "stream",
     "text": [
      "/home/nunger/Dropbox/Postdoc/EULER Scheduling/SCOPES/SCOPES/simulation.py:221: FutureWarning: The behavior of DataFrame concatenation with empty or all-NA entries is deprecated. In a future version, this will no longer exclude empty or all-NA columns when determining the result dtypes. To retain the old behavior, exclude the relevant entries before the concat operation.\n",
      "  self.observation_history = pd.concat(\n"
     ]
    },
    {
     "name": "stdout",
     "output_type": "stream",
     "text": [
      "\n",
      "Running night: 2023-10-03\n",
      "Determining observability of targets...\n",
      "Building observations...\n"
     ]
    },
    {
     "data": {
      "application/vnd.jupyter.widget-view+json": {
       "model_id": "c1bdc04a6f3b4a799c5c362aeefeba19",
       "version_major": 2,
       "version_minor": 0
      },
      "text/plain": [
       "  0%|          | 0/169 [00:00<?, ?it/s]"
      ]
     },
     "metadata": {},
     "output_type": "display_data"
    },
    {
     "name": "stderr",
     "output_type": "stream",
     "text": [
      "WARNING: TargetAlwaysUpWarning: Target with index 0 does not cross horizon=20.0 deg within 24 hours [astroplan.observer]\n"
     ]
    },
    {
     "name": "stdout",
     "output_type": "stream",
     "text": [
      "Building plan...\n",
      "Updating tracking tables and saving plan...\n",
      "\n",
      "Running night: 2023-10-04\n",
      "Determining observability of targets...\n",
      "Building observations...\n"
     ]
    },
    {
     "data": {
      "application/vnd.jupyter.widget-view+json": {
       "model_id": "9e296aa5bd424672badb8cfeac814e42",
       "version_major": 2,
       "version_minor": 0
      },
      "text/plain": [
       "  0%|          | 0/167 [00:00<?, ?it/s]"
      ]
     },
     "metadata": {},
     "output_type": "display_data"
    },
    {
     "name": "stderr",
     "output_type": "stream",
     "text": [
      "WARNING: TargetAlwaysUpWarning: Target with index 0 does not cross horizon=20.0 deg within 24 hours [astroplan.observer]\n"
     ]
    },
    {
     "name": "stdout",
     "output_type": "stream",
     "text": [
      "Building plan...\n",
      "Updating tracking tables and saving plan...\n",
      "\n",
      "Running night: 2023-10-05\n",
      "Determining observability of targets...\n",
      "Building observations...\n"
     ]
    },
    {
     "data": {
      "application/vnd.jupyter.widget-view+json": {
       "model_id": "fd9209df5962433298fe139df1eac1bb",
       "version_major": 2,
       "version_minor": 0
      },
      "text/plain": [
       "  0%|          | 0/167 [00:00<?, ?it/s]"
      ]
     },
     "metadata": {},
     "output_type": "display_data"
    },
    {
     "name": "stderr",
     "output_type": "stream",
     "text": [
      "WARNING: TargetAlwaysUpWarning: Target with index 0 does not cross horizon=20.0 deg within 24 hours [astroplan.observer]\n"
     ]
    },
    {
     "name": "stdout",
     "output_type": "stream",
     "text": [
      "Building plan...\n",
      "Updating tracking tables and saving plan...\n",
      "\n",
      "Running night: 2023-10-06\n",
      "Determining observability of targets...\n",
      "Building observations...\n"
     ]
    },
    {
     "data": {
      "application/vnd.jupyter.widget-view+json": {
       "model_id": "2ced1781f76c40fdae6b16cc3214e05b",
       "version_major": 2,
       "version_minor": 0
      },
      "text/plain": [
       "  0%|          | 0/175 [00:00<?, ?it/s]"
      ]
     },
     "metadata": {},
     "output_type": "display_data"
    },
    {
     "name": "stderr",
     "output_type": "stream",
     "text": [
      "WARNING: TargetAlwaysUpWarning: Target with index 0 does not cross horizon=20.0 deg within 24 hours [astroplan.observer]\n"
     ]
    },
    {
     "name": "stdout",
     "output_type": "stream",
     "text": [
      "Building plan...\n",
      "Updating tracking tables and saving plan...\n"
     ]
    }
   ],
   "source": [
    "# Run the simulation\n",
    "plans, observation_history, night_history = sim.run()"
   ]
  },
  {
   "cell_type": "code",
   "execution_count": 7,
   "metadata": {},
   "outputs": [
    {
     "data": {
      "text/plain": [
       "program\n",
       "410CAM    0.451389\n",
       "500COR    0.090278\n",
       "600COR    0.125000\n",
       "703COR    1.437500\n",
       "708COR    0.601852\n",
       "714COR    0.355556\n",
       "Name: texp, dtype: float64"
      ]
     },
     "execution_count": 7,
     "metadata": {},
     "output_type": "execute_result"
    }
   ],
   "source": [
    "total_prog_time = sim.observation_history.groupby(\"program\")[\"texp\"].sum()\n",
    "total_prog_time"
   ]
  },
  {
   "cell_type": "code",
   "execution_count": 8,
   "metadata": {},
   "outputs": [
    {
     "data": {
      "text/plain": [
       "3.0615740740740742"
      ]
     },
     "execution_count": 8,
     "metadata": {},
     "output_type": "execute_result"
    }
   ],
   "source": [
    "tot_obs_time_d = sim.night_history[\"observation_time\"].sum().total_seconds() / 86400\n",
    "tot_obs_time_d"
   ]
  },
  {
   "cell_type": "code",
   "execution_count": 9,
   "metadata": {},
   "outputs": [
    {
     "data": {
      "text/plain": [
       "program\n",
       "410CAM    14.743687\n",
       "500COR     2.948737\n",
       "600COR     4.082867\n",
       "703COR    46.952971\n",
       "708COR    19.658249\n",
       "714COR    11.613489\n",
       "Name: texp, dtype: float64"
      ]
     },
     "execution_count": 9,
     "metadata": {},
     "output_type": "execute_result"
    }
   ],
   "source": [
    "relative_used_time = (total_prog_time / tot_obs_time_d) * 100\n",
    "relative_used_time"
   ]
  },
  {
   "cell_type": "code",
   "execution_count": 16,
   "metadata": {},
   "outputs": [
    {
     "data": {
      "text/html": [
       "<div>\n",
       "<style scoped>\n",
       "    .dataframe tbody tr th:only-of-type {\n",
       "        vertical-align: middle;\n",
       "    }\n",
       "\n",
       "    .dataframe tbody tr th {\n",
       "        vertical-align: top;\n",
       "    }\n",
       "\n",
       "    .dataframe thead th {\n",
       "        text-align: right;\n",
       "    }\n",
       "</style>\n",
       "<table border=\"1\" class=\"dataframe\">\n",
       "  <thead>\n",
       "    <tr style=\"text-align: right;\">\n",
       "      <th></th>\n",
       "      <th>night</th>\n",
       "      <th>plan_score</th>\n",
       "      <th>plan_length</th>\n",
       "      <th>observation_time</th>\n",
       "      <th>overhead_time</th>\n",
       "      <th>600COR_allocated</th>\n",
       "      <th>600COR_used</th>\n",
       "      <th>703COR_allocated</th>\n",
       "      <th>703COR_used</th>\n",
       "      <th>708COR_allocated</th>\n",
       "      <th>708COR_used</th>\n",
       "      <th>714COR_allocated</th>\n",
       "      <th>714COR_used</th>\n",
       "      <th>500COR_allocated</th>\n",
       "      <th>500COR_used</th>\n",
       "      <th>410CAM_allocated</th>\n",
       "      <th>410CAM_used</th>\n",
       "    </tr>\n",
       "  </thead>\n",
       "  <tbody>\n",
       "    <tr>\n",
       "      <th>0</th>\n",
       "      <td>2023-10-02</td>\n",
       "      <td>NaN</td>\n",
       "      <td>25</td>\n",
       "      <td>0 days 09:09:50</td>\n",
       "      <td>0 days 00:33:25.003507</td>\n",
       "      <td>0.052227</td>\n",
       "      <td>0.290997</td>\n",
       "      <td>0.221198</td>\n",
       "      <td>0.054562</td>\n",
       "      <td>0.095238</td>\n",
       "      <td>0.197029</td>\n",
       "      <td>0.069124</td>\n",
       "      <td>0.043650</td>\n",
       "      <td>0.3149</td>\n",
       "      <td>0</td>\n",
       "      <td>0.247312</td>\n",
       "      <td>0.413762</td>\n",
       "    </tr>\n",
       "    <tr>\n",
       "      <th>1</th>\n",
       "      <td>2023-10-03</td>\n",
       "      <td>NaN</td>\n",
       "      <td>37</td>\n",
       "      <td>0 days 09:24:50</td>\n",
       "      <td>0 days 00:24:19.473400</td>\n",
       "      <td>0.052227</td>\n",
       "      <td>0.143541</td>\n",
       "      <td>0.221198</td>\n",
       "      <td>0.228768</td>\n",
       "      <td>0.095238</td>\n",
       "      <td>0.194378</td>\n",
       "      <td>0.069124</td>\n",
       "      <td>0.114833</td>\n",
       "      <td>0.3149</td>\n",
       "      <td>0.026914</td>\n",
       "      <td>0.247312</td>\n",
       "      <td>0.291567</td>\n",
       "    </tr>\n",
       "    <tr>\n",
       "      <th>2</th>\n",
       "      <td>2023-10-04</td>\n",
       "      <td>1.037312</td>\n",
       "      <td>38</td>\n",
       "      <td>0 days 09:15:40</td>\n",
       "      <td>0 days 00:28:17.473845</td>\n",
       "      <td>0.052227</td>\n",
       "      <td>0.095789</td>\n",
       "      <td>0.221198</td>\n",
       "      <td>0.377170</td>\n",
       "      <td>0.095238</td>\n",
       "      <td>0.181600</td>\n",
       "      <td>0.069124</td>\n",
       "      <td>0.114947</td>\n",
       "      <td>0.3149</td>\n",
       "      <td>0.035921</td>\n",
       "      <td>0.247312</td>\n",
       "      <td>0.194572</td>\n",
       "    </tr>\n",
       "    <tr>\n",
       "      <th>3</th>\n",
       "      <td>2023-10-05</td>\n",
       "      <td>1.035407</td>\n",
       "      <td>39</td>\n",
       "      <td>0 days 09:22:20</td>\n",
       "      <td>0 days 00:23:27.381477</td>\n",
       "      <td>0.052227</td>\n",
       "      <td>0.071663</td>\n",
       "      <td>0.221198</td>\n",
       "      <td>0.456853</td>\n",
       "      <td>0.095238</td>\n",
       "      <td>0.184383</td>\n",
       "      <td>0.069124</td>\n",
       "      <td>0.114661</td>\n",
       "      <td>0.3149</td>\n",
       "      <td>0.026874</td>\n",
       "      <td>0.247312</td>\n",
       "      <td>0.145566</td>\n",
       "    </tr>\n",
       "    <tr>\n",
       "      <th>4</th>\n",
       "      <td>2023-10-06</td>\n",
       "      <td>NaN</td>\n",
       "      <td>27</td>\n",
       "      <td>0 days 08:47:50</td>\n",
       "      <td>0 days 00:50:26.826649</td>\n",
       "      <td>0.052227</td>\n",
       "      <td>0.057961</td>\n",
       "      <td>0.221198</td>\n",
       "      <td>0.440138</td>\n",
       "      <td>0.095238</td>\n",
       "      <td>0.164825</td>\n",
       "      <td>0.069124</td>\n",
       "      <td>0.104329</td>\n",
       "      <td>0.3149</td>\n",
       "      <td>0.032603</td>\n",
       "      <td>0.247312</td>\n",
       "      <td>0.200145</td>\n",
       "    </tr>\n",
       "    <tr>\n",
       "      <th>5</th>\n",
       "      <td>2023-10-07</td>\n",
       "      <td>1.038523</td>\n",
       "      <td>36</td>\n",
       "      <td>0 days 09:15:50</td>\n",
       "      <td>0 days 00:25:19.287874</td>\n",
       "      <td>0.052227</td>\n",
       "      <td>0.048246</td>\n",
       "      <td>0.221198</td>\n",
       "      <td>0.447784</td>\n",
       "      <td>0.095238</td>\n",
       "      <td>0.169866</td>\n",
       "      <td>0.069124</td>\n",
       "      <td>0.110966</td>\n",
       "      <td>0.3149</td>\n",
       "      <td>0.027138</td>\n",
       "      <td>0.247312</td>\n",
       "      <td>0.196000</td>\n",
       "    </tr>\n",
       "    <tr>\n",
       "      <th>6</th>\n",
       "      <td>2023-10-08</td>\n",
       "      <td>1.009980</td>\n",
       "      <td>37</td>\n",
       "      <td>0 days 09:05:20</td>\n",
       "      <td>0 days 00:28:46.507065</td>\n",
       "      <td>0.052227</td>\n",
       "      <td>0.041433</td>\n",
       "      <td>0.221198</td>\n",
       "      <td>0.462236</td>\n",
       "      <td>0.095238</td>\n",
       "      <td>0.190764</td>\n",
       "      <td>0.069124</td>\n",
       "      <td>0.113940</td>\n",
       "      <td>0.3149</td>\n",
       "      <td>0.023306</td>\n",
       "      <td>0.247312</td>\n",
       "      <td>0.168321</td>\n",
       "    </tr>\n",
       "    <tr>\n",
       "      <th>7</th>\n",
       "      <td>2023-10-09</td>\n",
       "      <td>1.020632</td>\n",
       "      <td>36</td>\n",
       "      <td>0 days 09:07:00</td>\n",
       "      <td>0 days 00:27:26.277668</td>\n",
       "      <td>0.052227</td>\n",
       "      <td>0.040829</td>\n",
       "      <td>0.221198</td>\n",
       "      <td>0.469530</td>\n",
       "      <td>0.095238</td>\n",
       "      <td>0.196582</td>\n",
       "      <td>0.069124</td>\n",
       "      <td>0.116135</td>\n",
       "      <td>0.3149</td>\n",
       "      <td>0.029487</td>\n",
       "      <td>0.247312</td>\n",
       "      <td>0.147437</td>\n",
       "    </tr>\n",
       "  </tbody>\n",
       "</table>\n",
       "</div>"
      ],
      "text/plain": [
       "        night  plan_score plan_length observation_time          overhead_time  \\\n",
       "0  2023-10-02         NaN          25  0 days 09:09:50 0 days 00:33:25.003507   \n",
       "1  2023-10-03         NaN          37  0 days 09:24:50 0 days 00:24:19.473400   \n",
       "2  2023-10-04    1.037312          38  0 days 09:15:40 0 days 00:28:17.473845   \n",
       "3  2023-10-05    1.035407          39  0 days 09:22:20 0 days 00:23:27.381477   \n",
       "4  2023-10-06         NaN          27  0 days 08:47:50 0 days 00:50:26.826649   \n",
       "5  2023-10-07    1.038523          36  0 days 09:15:50 0 days 00:25:19.287874   \n",
       "6  2023-10-08    1.009980          37  0 days 09:05:20 0 days 00:28:46.507065   \n",
       "7  2023-10-09    1.020632          36  0 days 09:07:00 0 days 00:27:26.277668   \n",
       "\n",
       "   600COR_allocated  600COR_used  703COR_allocated  703COR_used  \\\n",
       "0          0.052227     0.290997          0.221198     0.054562   \n",
       "1          0.052227     0.143541          0.221198     0.228768   \n",
       "2          0.052227     0.095789          0.221198     0.377170   \n",
       "3          0.052227     0.071663          0.221198     0.456853   \n",
       "4          0.052227     0.057961          0.221198     0.440138   \n",
       "5          0.052227     0.048246          0.221198     0.447784   \n",
       "6          0.052227     0.041433          0.221198     0.462236   \n",
       "7          0.052227     0.040829          0.221198     0.469530   \n",
       "\n",
       "   708COR_allocated  708COR_used  714COR_allocated  714COR_used  \\\n",
       "0          0.095238     0.197029          0.069124     0.043650   \n",
       "1          0.095238     0.194378          0.069124     0.114833   \n",
       "2          0.095238     0.181600          0.069124     0.114947   \n",
       "3          0.095238     0.184383          0.069124     0.114661   \n",
       "4          0.095238     0.164825          0.069124     0.104329   \n",
       "5          0.095238     0.169866          0.069124     0.110966   \n",
       "6          0.095238     0.190764          0.069124     0.113940   \n",
       "7          0.095238     0.196582          0.069124     0.116135   \n",
       "\n",
       "   500COR_allocated 500COR_used  410CAM_allocated  410CAM_used  \n",
       "0            0.3149           0          0.247312     0.413762  \n",
       "1            0.3149    0.026914          0.247312     0.291567  \n",
       "2            0.3149    0.035921          0.247312     0.194572  \n",
       "3            0.3149    0.026874          0.247312     0.145566  \n",
       "4            0.3149    0.032603          0.247312     0.200145  \n",
       "5            0.3149    0.027138          0.247312     0.196000  \n",
       "6            0.3149    0.023306          0.247312     0.168321  \n",
       "7            0.3149    0.029487          0.247312     0.147437  "
      ]
     },
     "execution_count": 16,
     "metadata": {},
     "output_type": "execute_result"
    }
   ],
   "source": [
    "sim.night_history"
   ]
  },
  {
   "cell_type": "code",
   "execution_count": 37,
   "metadata": {},
   "outputs": [
    {
     "data": {
      "text/plain": [
       "Text(0.5, 1.0, 'Difference between Used and Allocated Time')"
      ]
     },
     "execution_count": 37,
     "metadata": {},
     "output_type": "execute_result"
    },
    {
     "data": {
      "image/png": "[encoded data removed]",
      "text/plain": [
       "<Figure size 800x1000 with 2 Axes>"
      ]
     },
     "metadata": {},
     "output_type": "display_data"
    }
   ],
   "source": [
    "# Get the data for the first night\n",
    "night_data = sim.night_history.iloc[-1]\n",
    "\n",
    "# Extract the program names, allocated time, and used time\n",
    "prog_names = [f\"{prog.progID}{prog.instrument}\" for prog in sim.programs]\n",
    "allocated_time = [night_data[f\"{prog}_allocated\"] for prog in prog_names]\n",
    "used_time = [night_data[f\"{prog}_used\"] for prog in prog_names]\n",
    "x = np.arange(1, len(prog_names) + 1)\n",
    "width = 0.35\n",
    "\n",
    "# Calculate the difference between used and allocated times\n",
    "time_difference = [used - allocated for used, allocated in zip(used_time, allocated_time)]\n",
    "\n",
    "# Create subplots\n",
    "fig, (ax1, ax2) = plt.subplots(2, 1, figsize=(8, 10))  # Adjust the figure size as needed\n",
    "# First subplot: Allocated vs Used Time\n",
    "ax1.bar(x - (width / 2), allocated_time, width, label=\"Allocated Time\")\n",
    "ax1.bar(x + (width / 2), used_time, width, label=\"Used Time\")\n",
    "# ax1.set_xlabel(\"Programs\")\n",
    "ax1.set_ylabel(\"Time\")\n",
    "ax1.set_xticks(x)\n",
    "ax1.set_xticklabels(prog_names)\n",
    "ax1.set_xlim(0.5, len(prog_names) + 0.5)\n",
    "ax1.legend()\n",
    "ax1.set_title(f\"{night_data['night']}\\nAllocated vs Used Time\")\n",
    "\n",
    "# Second subplot: Difference between Used and Allocated Time\n",
    "ax2.bar(x, time_difference, width * 0.75, color=\"red\", label=\"Time Difference\")\n",
    "ax2.axhline(y=0, color=\"grey\", linestyle=\"--\")\n",
    "ax2.set_xlabel(\"Programs\")\n",
    "ax2.set_ylabel(\"Time Difference\")\n",
    "ax2.set_xticks(x)\n",
    "ax2.set_xticklabels(prog_names)\n",
    "ax2.set_xlim(0.5, len(prog_names) + 0.5)\n",
    "ax2.legend()\n",
    "ax2.set_title(\"Difference between Used and Allocated Time\")"
   ]
  },
  {
   "cell_type": "code",
   "execution_count": 13,
   "metadata": {},
   "outputs": [
    {
     "data": {
      "text/plain": [
       "'2023-11-28_13:50:26'"
      ]
     },
     "execution_count": 13,
     "metadata": {},
     "output_type": "execute_result"
    }
   ],
   "source": []
  },
  {
   "cell_type": "markdown",
   "metadata": {},
   "source": [
    "## Random tests for development"
   ]
  },
  {
   "cell_type": "code",
   "execution_count": 20,
   "metadata": {},
   "outputs": [],
   "source": [
    "# night = Night(date(2023, 9, 20), \"nautical\", lasilla)"
   ]
  },
  {
   "cell_type": "code",
   "execution_count": 26,
   "metadata": {},
   "outputs": [
    {
     "data": {
      "text/html": [
       "<div>\n",
       "<style scoped>\n",
       "    .dataframe tbody tr th:only-of-type {\n",
       "        vertical-align: middle;\n",
       "    }\n",
       "\n",
       "    .dataframe tbody tr th {\n",
       "        vertical-align: top;\n",
       "    }\n",
       "\n",
       "    .dataframe thead th {\n",
       "        text-align: right;\n",
       "    }\n",
       "</style>\n",
       "<table border=\"1\" class=\"dataframe\">\n",
       "  <thead>\n",
       "    <tr style=\"text-align: right;\">\n",
       "      <th></th>\n",
       "      <th>target</th>\n",
       "      <th>program</th>\n",
       "      <th>obs_time</th>\n",
       "      <th>obs_date</th>\n",
       "      <th>score</th>\n",
       "    </tr>\n",
       "  </thead>\n",
       "  <tbody>\n",
       "    <tr>\n",
       "      <th>0</th>\n",
       "      <td>HD20794</td>\n",
       "      <td>703</td>\n",
       "      <td>50000.494720</td>\n",
       "      <td>NaN</td>\n",
       "      <td>NaN</td>\n",
       "    </tr>\n",
       "    <tr>\n",
       "      <th>1</th>\n",
       "      <td>HD158198</td>\n",
       "      <td>703</td>\n",
       "      <td>50012.663038</td>\n",
       "      <td>NaN</td>\n",
       "      <td>NaN</td>\n",
       "    </tr>\n",
       "    <tr>\n",
       "      <th>2</th>\n",
       "      <td>HD144585</td>\n",
       "      <td>703</td>\n",
       "      <td>50016.682201</td>\n",
       "      <td>NaN</td>\n",
       "      <td>NaN</td>\n",
       "    </tr>\n",
       "    <tr>\n",
       "      <th>3</th>\n",
       "      <td>HD190248</td>\n",
       "      <td>703</td>\n",
       "      <td>50031.230765</td>\n",
       "      <td>NaN</td>\n",
       "      <td>NaN</td>\n",
       "    </tr>\n",
       "    <tr>\n",
       "      <th>4</th>\n",
       "      <td>HD20794</td>\n",
       "      <td>703</td>\n",
       "      <td>50031.346652</td>\n",
       "      <td>NaN</td>\n",
       "      <td>NaN</td>\n",
       "    </tr>\n",
       "    <tr>\n",
       "      <th>5</th>\n",
       "      <td>HD190248</td>\n",
       "      <td>703</td>\n",
       "      <td>50034.372995</td>\n",
       "      <td>NaN</td>\n",
       "      <td>NaN</td>\n",
       "    </tr>\n",
       "    <tr>\n",
       "      <th>6</th>\n",
       "      <td>HD192310</td>\n",
       "      <td>703</td>\n",
       "      <td>50054.538136</td>\n",
       "      <td>NaN</td>\n",
       "      <td>NaN</td>\n",
       "    </tr>\n",
       "    <tr>\n",
       "      <th>7</th>\n",
       "      <td>HD108309</td>\n",
       "      <td>703</td>\n",
       "      <td>50068.926258</td>\n",
       "      <td>NaN</td>\n",
       "      <td>NaN</td>\n",
       "    </tr>\n",
       "    <tr>\n",
       "      <th>8</th>\n",
       "      <td>HD161612</td>\n",
       "      <td>703</td>\n",
       "      <td>50076.414902</td>\n",
       "      <td>NaN</td>\n",
       "      <td>NaN</td>\n",
       "    </tr>\n",
       "    <tr>\n",
       "      <th>9</th>\n",
       "      <td>HD108309</td>\n",
       "      <td>703</td>\n",
       "      <td>50082.576663</td>\n",
       "      <td>NaN</td>\n",
       "      <td>NaN</td>\n",
       "    </tr>\n",
       "    <tr>\n",
       "      <th>10</th>\n",
       "      <td>HD192310</td>\n",
       "      <td>703</td>\n",
       "      <td>50092.986043</td>\n",
       "      <td>NaN</td>\n",
       "      <td>NaN</td>\n",
       "    </tr>\n",
       "    <tr>\n",
       "      <th>11</th>\n",
       "      <td>HD10700</td>\n",
       "      <td>703</td>\n",
       "      <td>50095.655811</td>\n",
       "      <td>NaN</td>\n",
       "      <td>NaN</td>\n",
       "    </tr>\n",
       "  </tbody>\n",
       "</table>\n",
       "</div>"
      ],
      "text/plain": [
       "      target  program      obs_time obs_date score\n",
       "0    HD20794      703  50000.494720      NaN   NaN\n",
       "1   HD158198      703  50012.663038      NaN   NaN\n",
       "2   HD144585      703  50016.682201      NaN   NaN\n",
       "3   HD190248      703  50031.230765      NaN   NaN\n",
       "4    HD20794      703  50031.346652      NaN   NaN\n",
       "5   HD190248      703  50034.372995      NaN   NaN\n",
       "6   HD192310      703  50054.538136      NaN   NaN\n",
       "7   HD108309      703  50068.926258      NaN   NaN\n",
       "8   HD161612      703  50076.414902      NaN   NaN\n",
       "9   HD108309      703  50082.576663      NaN   NaN\n",
       "10  HD192310      703  50092.986043      NaN   NaN\n",
       "11   HD10700      703  50095.655811      NaN   NaN"
      ]
     },
     "execution_count": 26,
     "metadata": {},
     "output_type": "execute_result"
    }
   ],
   "source": [
    "cat = pd.read_csv(sim.programs[prog600][\"file\"])\n",
    "\n",
    "observation_history = pd.DataFrame(columns=[\"target\", \"program\", \"obs_time\", \"obs_date\", \"score\"])\n",
    "\n",
    "# Generate some dummy data\n",
    "observation_history = (\n",
    "    observation_history.assign(target=np.concatenate([cat[\"catalog_name\"], cat[\"catalog_name\"]]))\n",
    "    .assign(program=prog703.progID)\n",
    "    .assign(obs_time=(np.random.random(len(cat) * 2) * 100) + 50000)\n",
    "    .sort_values(by=\"obs_time\")\n",
    "    .drop(index=np.random.randint(0, len(cat) * 2, 10))\n",
    "    .reset_index(drop=True)\n",
    ")\n",
    "\n",
    "# print the observation_history table\n",
    "observation_history"
   ]
  },
  {
   "cell_type": "code",
   "execution_count": 27,
   "metadata": {},
   "outputs": [
    {
     "data": {
      "text/plain": [
       "0      HD1581\n",
       "1     HD10700\n",
       "2     HD20794\n",
       "3    HD65907A\n",
       "4    HD108309\n",
       "5    HD144585\n",
       "6    HD158198\n",
       "7    HD161612\n",
       "8    HD190248\n",
       "9    HD192310\n",
       "Name: catalog_name, dtype: object"
      ]
     },
     "execution_count": 27,
     "metadata": {},
     "output_type": "execute_result"
    }
   ],
   "source": [
    "cat[\"catalog_name\"]"
   ]
  },
  {
   "cell_type": "code",
   "execution_count": 28,
   "metadata": {},
   "outputs": [
    {
     "data": {
      "text/plain": [
       "0        0.000000\n",
       "1    50095.655811\n",
       "2    50031.346652\n",
       "3        0.000000\n",
       "4    50082.576663\n",
       "5    50016.682201\n",
       "6    50012.663038\n",
       "7    50076.414902\n",
       "8    50034.372995\n",
       "9    50092.986043\n",
       "Name: catalog_name, dtype: float64"
      ]
     },
     "execution_count": 28,
     "metadata": {},
     "output_type": "execute_result"
    }
   ],
   "source": [
    "last_observation_dates = cat[\"catalog_name\"].apply(\n",
    "    lambda x: observation_history.loc[observation_history[\"target\"] == x][\"obs_time\"].max()\n",
    "    if x in observation_history[\"target\"].unique()\n",
    "    else 0\n",
    ")\n",
    "\n",
    "last_observation_dates"
   ]
  },
  {
   "cell_type": "code",
   "execution_count": 29,
   "metadata": {},
   "outputs": [
    {
     "data": {
      "text/html": [
       "<div>\n",
       "<style scoped>\n",
       "    .dataframe tbody tr th:only-of-type {\n",
       "        vertical-align: middle;\n",
       "    }\n",
       "\n",
       "    .dataframe tbody tr th {\n",
       "        vertical-align: top;\n",
       "    }\n",
       "\n",
       "    .dataframe thead th {\n",
       "        text-align: right;\n",
       "    }\n",
       "</style>\n",
       "<table border=\"1\" class=\"dataframe\">\n",
       "  <thead>\n",
       "    <tr style=\"text-align: right;\">\n",
       "      <th></th>\n",
       "      <th>catalog_name</th>\n",
       "      <th>simbad_id</th>\n",
       "      <th>ra</th>\n",
       "      <th>dec</th>\n",
       "      <th>texp</th>\n",
       "      <th>priority</th>\n",
       "      <th>cadence</th>\n",
       "      <th>comments_for_observer</th>\n",
       "      <th>last_obs</th>\n",
       "      <th>pct_overdue</th>\n",
       "      <th>score</th>\n",
       "    </tr>\n",
       "  </thead>\n",
       "  <tbody>\n",
       "    <tr>\n",
       "      <th>1</th>\n",
       "      <td>HD10700</td>\n",
       "      <td>* tau Cet</td>\n",
       "      <td>01:44:04.0831</td>\n",
       "      <td>-15:56:14.927</td>\n",
       "      <td>1200</td>\n",
       "      <td>0</td>\n",
       "      <td>7</td>\n",
       "      <td>NaN</td>\n",
       "      <td>50095.655811</td>\n",
       "      <td>2.477741</td>\n",
       "      <td>0.0</td>\n",
       "    </tr>\n",
       "    <tr>\n",
       "      <th>8</th>\n",
       "      <td>HD190248</td>\n",
       "      <td>* del Pav</td>\n",
       "      <td>20:08:43.6088</td>\n",
       "      <td>-66:10:55.442</td>\n",
       "      <td>1200</td>\n",
       "      <td>0</td>\n",
       "      <td>7</td>\n",
       "      <td>NaN</td>\n",
       "      <td>50034.372995</td>\n",
       "      <td>11.232429</td>\n",
       "      <td>0.0</td>\n",
       "    </tr>\n",
       "    <tr>\n",
       "      <th>6</th>\n",
       "      <td>HD158198</td>\n",
       "      <td>HD 158198</td>\n",
       "      <td>17:29:25.5978</td>\n",
       "      <td>-33:45:38.071</td>\n",
       "      <td>1200</td>\n",
       "      <td>0</td>\n",
       "      <td>7</td>\n",
       "      <td>NaN</td>\n",
       "      <td>50012.663038</td>\n",
       "      <td>14.333852</td>\n",
       "      <td>0.0</td>\n",
       "    </tr>\n",
       "    <tr>\n",
       "      <th>7</th>\n",
       "      <td>HD161612</td>\n",
       "      <td>HD 161612</td>\n",
       "      <td>17:47:57.5496</td>\n",
       "      <td>-34:01:07.948</td>\n",
       "      <td>1200</td>\n",
       "      <td>0</td>\n",
       "      <td>7</td>\n",
       "      <td>NaN</td>\n",
       "      <td>50076.414902</td>\n",
       "      <td>5.226443</td>\n",
       "      <td>0.0</td>\n",
       "    </tr>\n",
       "    <tr>\n",
       "      <th>0</th>\n",
       "      <td>HD1581</td>\n",
       "      <td>* zet Tuc</td>\n",
       "      <td>00:20:04.2586</td>\n",
       "      <td>-64:52:29.257</td>\n",
       "      <td>1200</td>\n",
       "      <td>0</td>\n",
       "      <td>7</td>\n",
       "      <td>NaN</td>\n",
       "      <td>0.000000</td>\n",
       "      <td>7159.000000</td>\n",
       "      <td>0.0</td>\n",
       "    </tr>\n",
       "    <tr>\n",
       "      <th>5</th>\n",
       "      <td>HD144585</td>\n",
       "      <td>HD 144585</td>\n",
       "      <td>16:07:03.3696</td>\n",
       "      <td>-14:04:16.671</td>\n",
       "      <td>1200</td>\n",
       "      <td>0</td>\n",
       "      <td>7</td>\n",
       "      <td>NaN</td>\n",
       "      <td>50016.682201</td>\n",
       "      <td>13.759686</td>\n",
       "      <td>0.0</td>\n",
       "    </tr>\n",
       "    <tr>\n",
       "      <th>4</th>\n",
       "      <td>HD108309</td>\n",
       "      <td>HD 108309</td>\n",
       "      <td>12:26:48.1417</td>\n",
       "      <td>-48:54:47.499</td>\n",
       "      <td>1200</td>\n",
       "      <td>0</td>\n",
       "      <td>7</td>\n",
       "      <td>NaN</td>\n",
       "      <td>50082.576663</td>\n",
       "      <td>4.346191</td>\n",
       "      <td>0.0</td>\n",
       "    </tr>\n",
       "    <tr>\n",
       "      <th>2</th>\n",
       "      <td>HD20794</td>\n",
       "      <td>* e Eri</td>\n",
       "      <td>03:19:55.6509</td>\n",
       "      <td>-43:04:11.215</td>\n",
       "      <td>1200</td>\n",
       "      <td>0</td>\n",
       "      <td>7</td>\n",
       "      <td>NaN</td>\n",
       "      <td>50031.346652</td>\n",
       "      <td>11.664764</td>\n",
       "      <td>0.0</td>\n",
       "    </tr>\n",
       "    <tr>\n",
       "      <th>9</th>\n",
       "      <td>HD192310</td>\n",
       "      <td>HD 192310</td>\n",
       "      <td>20:15:17.3913</td>\n",
       "      <td>-27:01:58.711</td>\n",
       "      <td>1200</td>\n",
       "      <td>0</td>\n",
       "      <td>7</td>\n",
       "      <td>NaN</td>\n",
       "      <td>50092.986043</td>\n",
       "      <td>2.859137</td>\n",
       "      <td>0.0</td>\n",
       "    </tr>\n",
       "    <tr>\n",
       "      <th>3</th>\n",
       "      <td>HD65907A</td>\n",
       "      <td>HD  65907</td>\n",
       "      <td>07:57:46.9142</td>\n",
       "      <td>-60:18:11.058</td>\n",
       "      <td>1200</td>\n",
       "      <td>0</td>\n",
       "      <td>7</td>\n",
       "      <td>NaN</td>\n",
       "      <td>0.000000</td>\n",
       "      <td>7159.000000</td>\n",
       "      <td>0.0</td>\n",
       "    </tr>\n",
       "  </tbody>\n",
       "</table>\n",
       "</div>"
      ],
      "text/plain": [
       "  catalog_name  simbad_id             ra            dec  texp  priority  \\\n",
       "1      HD10700  * tau Cet  01:44:04.0831  -15:56:14.927  1200         0   \n",
       "8     HD190248  * del Pav  20:08:43.6088  -66:10:55.442  1200         0   \n",
       "6     HD158198  HD 158198  17:29:25.5978  -33:45:38.071  1200         0   \n",
       "7     HD161612  HD 161612  17:47:57.5496  -34:01:07.948  1200         0   \n",
       "0       HD1581  * zet Tuc  00:20:04.2586  -64:52:29.257  1200         0   \n",
       "5     HD144585  HD 144585  16:07:03.3696  -14:04:16.671  1200         0   \n",
       "4     HD108309  HD 108309  12:26:48.1417  -48:54:47.499  1200         0   \n",
       "2      HD20794    * e Eri  03:19:55.6509  -43:04:11.215  1200         0   \n",
       "9     HD192310  HD 192310  20:15:17.3913  -27:01:58.711  1200         0   \n",
       "3     HD65907A  HD  65907  07:57:46.9142  -60:18:11.058  1200         0   \n",
       "\n",
       "   cadence  comments_for_observer      last_obs  pct_overdue  score  \n",
       "1        7                    NaN  50095.655811     2.477741    0.0  \n",
       "8        7                    NaN  50034.372995    11.232429    0.0  \n",
       "6        7                    NaN  50012.663038    14.333852    0.0  \n",
       "7        7                    NaN  50076.414902     5.226443    0.0  \n",
       "0        7                    NaN      0.000000  7159.000000    0.0  \n",
       "5        7                    NaN  50016.682201    13.759686    0.0  \n",
       "4        7                    NaN  50082.576663     4.346191    0.0  \n",
       "2        7                    NaN  50031.346652    11.664764    0.0  \n",
       "9        7                    NaN  50092.986043     2.859137    0.0  \n",
       "3        7                    NaN      0.000000  7159.000000    0.0  "
      ]
     },
     "execution_count": 29,
     "metadata": {},
     "output_type": "execute_result"
    }
   ],
   "source": [
    "cat_mod = (\n",
    "    cat.assign(last_obs=last_observation_dates)\n",
    "    .assign(pct_overdue=lambda df: (50120 - (df[\"last_obs\"] + df[\"cadence\"])) / df[\"cadence\"])\n",
    "    .assign(score=lambda df: df[\"priority\"] / df[\"pct_overdue\"])\n",
    "    # .assign(keep=lambda df: (df[\"pct_overdue\"] > 0) & (df[\"score\"] <= df[\"score\"].quantile(0.75)))\n",
    ")\n",
    "cat_mod.sample(10)"
   ]
  },
  {
   "cell_type": "code",
   "execution_count": null,
   "metadata": {},
   "outputs": [],
   "source": [
    "# Filter cat_mod for observable targets\n",
    "observable_cat_mod = cat_mod[keep]\n",
    "\n",
    "# Filter for pct_overdue > 0 and sort by score in ascending order\n",
    "filtered_sorted = observable_cat_mod[observable_cat_mod[\"pct_overdue\"] > 0].sort_values(\n",
    "    by=\"score\", ascending=True\n",
    ")\n",
    "\n",
    "# Take the top 50 targets\n",
    "top_50 = filtered_sorted.head(50)\n",
    "\n",
    "# Create a boolean series for marking top 50 targets\n",
    "top_50_marks = cat_mod[\"catalog_name\"].isin(top_50.index)"
   ]
  },
  {
   "cell_type": "code",
   "execution_count": 30,
   "metadata": {},
   "outputs": [],
   "source": [
    "# Filter for pct_overdue > 0 and sort by score in ascending order\n",
    "filtered_sorted = cat_mod[cat_mod[\"pct_overdue\"] > 0].sort_values(by=\"score\", ascending=True)\n",
    "\n",
    "# Take the top 50 targets\n",
    "top_50 = filtered_sorted.head(50)\n",
    "\n",
    "# Create a boolean series for marking top 50 targets\n",
    "top_50_marks = cat_mod.index.isin(top_50.index)"
   ]
  },
  {
   "cell_type": "code",
   "execution_count": 31,
   "metadata": {},
   "outputs": [
    {
     "data": {
      "text/plain": [
       "(array([0, 1, 2, 3, 4, 5, 6, 7, 8, 9]),)"
      ]
     },
     "execution_count": 31,
     "metadata": {},
     "output_type": "execute_result"
    }
   ],
   "source": [
    "np.where(top_50_marks)"
   ]
  },
  {
   "cell_type": "code",
   "execution_count": 14,
   "metadata": {},
   "outputs": [
    {
     "data": {
      "text/plain": [
       "array([ True,  True, False,  True,  True,  True,  True, False, False,\n",
       "       False,  True,  True,  True, False,  True, False,  True,  True,\n",
       "        True, False,  True,  True,  True,  True,  True,  True, False,\n",
       "        True,  True, False,  True,  True,  True,  True, False, False,\n",
       "       False,  True,  True,  True, False, False,  True, False,  True,\n",
       "        True, False,  True, False, False, False,  True,  True,  True,\n",
       "        True,  True,  True, False,  True,  True, False, False,  True,\n",
       "        True,  True,  True,  True,  True,  True,  True,  True,  True,\n",
       "       False,  True,  True,  True, False, False,  True,  True,  True,\n",
       "        True,  True,  True, False,  True, False,  True,  True,  True,\n",
       "       False,  True, False, False,  True,  True,  True, False,  True,\n",
       "        True,  True,  True, False, False, False,  True])"
      ]
     },
     "execution_count": 14,
     "metadata": {},
     "output_type": "execute_result"
    }
   ],
   "source": [
    "cat_mod[\"keep\"].values"
   ]
  },
  {
   "cell_type": "code",
   "execution_count": null,
   "metadata": {},
   "outputs": [],
   "source": []
  }
 ],
 "metadata": {
  "kernelspec": {
   "display_name": "py311",
   "language": "python",
   "name": "python3"
  },
  "language_info": {
   "codemirror_mode": {
    "name": "ipython",
    "version": 3
   },
   "file_extension": ".py",
   "mimetype": "text/x-python",
   "name": "python",
   "nbconvert_exporter": "python",
   "pygments_lexer": "ipython3",
   "version": "3.11.5"
  }
 },
 "nbformat": 4,
 "nbformat_minor": 2
}
