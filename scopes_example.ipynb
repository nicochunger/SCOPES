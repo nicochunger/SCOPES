{
 "cells": [
  {
   "cell_type": "markdown",
   "metadata": {},
   "source": [
    "# A simple example on how to use `scopes`\n",
    "\n",
    "In this tutorial you will learn the basic functionality of scopes and how to set everything up to use it.\n",
    "\n",
    "## Topics\n",
    "\n",
    "- Construct the \"Night\" object to designate the specific night of the year for which the schedule is to be created.\n",
    "- Establish the observing programs, outlining their specific objectives and parameters.\n",
    "- Determine the merits to be utilized, ensuring they align with the objectives of the observing programs.\n",
    "- Create the \"Target\" objects, assigning appropriate merits based on the unique requirements of each target.\n",
    "- Create the \"Observation\" objects, detailing the specifics of each observation.\n",
    "- Compile a preliminary night schedule using the created observations, forming an organized plan for the designated night."
   ]
  },
  {
   "cell_type": "code",
   "execution_count": 6,
   "metadata": {},
   "outputs": [],
   "source": [
    "from scopes.scheduler_components import Night, Program, Merit, Target\n",
    "import scopes.merits\n",
    "import scopes.scheduler\n",
    "\n",
    "import matplotlib.pyplot as plt\n",
    "import matplotlib.colors as mcolors\n",
    "import numpy as np\n",
    "from datetime import date, timedelta\n",
    "from astropy.coordinates import SkyCoord\n",
    "import astroplan"
   ]
  },
  {
   "cell_type": "markdown",
   "metadata": {},
   "source": [
    "### Night and Observer\n",
    "\n",
    "We will start by defining the Observer, that is where in the world our telescope is located, and for which night we want to create a schedule. This is done using the Observer object from the astroplan package. For this example we will consider a telescope at the La Silla Observatory in Chile.\n",
    "\n",
    "We then create the Night object for which night we want to create the schedule. This is done by defining the date, within which twilights observations should be considered"
   ]
  },
  {
   "cell_type": "code",
   "execution_count": null,
   "metadata": {},
   "outputs": [],
   "source": [
    "# Define observer location\n",
    "observer = astroplan.Observer.at_site(\"lasilla\")\n",
    "\n",
    "# Define the night\n",
    "night = Night(date(2023, 11, 14), \"nautical\", observer)"
   ]
  },
  {
   "cell_type": "markdown",
   "metadata": {},
   "source": [
    "### Programs\n",
    "\n",
    "SCOPES allows to define different observing programs. This is widely the case in many telescopes where different groups use the telescope for different purposes and thus each group or person has their own observing program with their own set of targets and scientific priorities.\n",
    "\n",
    "These are defined with the Program object where the parameters to be given are the program ID, name of the isntrument to be used, the proprotion of the total time that is allocated to this program, and optionally with what color this program will be plotted."
   ]
  },
  {
   "cell_type": "code",
   "execution_count": null,
   "metadata": {},
   "outputs": [],
   "source": [
    "# Define color pallette for plotting\n",
    "color_pallette = iter([mcolors.rgb2hex(color) for color in plt.get_cmap(\"Set2\").colors])\n",
    "\n",
    "# Lets use \"CAR\" and \"BIKE\" as our two example instruments\n",
    "prog1 = Program(\"prog1\", \"CAR\", 0.1, next(color_pallette))\n",
    "prog2 = Program(\"prog2\", \"CAR\", 0.1, next(color_pallette))\n",
    "prog3 = Program(\"prog3\", \"CAR\", 0.3, next(color_pallette))\n",
    "prog4 = Program(\"prog4\", \"BIKE\", 0.2, next(color_pallette))\n",
    "prog5 = Program(\"prog5\", \"BIKE\", 0.3, next(color_pallette))"
   ]
  }
 ],
 "metadata": {
  "kernelspec": {
   "display_name": "py311",
   "language": "python",
   "name": "python3"
  },
  "language_info": {
   "codemirror_mode": {
    "name": "ipython",
    "version": 3
   },
   "file_extension": ".py",
   "mimetype": "text/x-python",
   "name": "python",
   "nbconvert_exporter": "python",
   "pygments_lexer": "ipython3",
   "version": "3.11.5"
  }
 },
 "nbformat": 4,
 "nbformat_minor": 2
}
