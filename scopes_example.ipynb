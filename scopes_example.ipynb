{
 "cells": [
  {
   "cell_type": "markdown",
   "metadata": {},
   "source": [
    "# A simple example on how to use `scopes`\n",
    "\n",
    "In this tutorial you will learn the basic functionality of SCOPES and how to set everything up to use it.\n",
    "\n",
    "## Topics\n",
    "\n",
    "- Construct the \"Night\" object to designate the specific night of the year for which the schedule is to be created.\n",
    "- Establish the observing programs, outlining their specific objectives and parameters.\n",
    "- Determine the merits to be utilized, ensuring they align with the objectives of the observing programs.\n",
    "- Create the \"Target\" objects, assigning appropriate merits based on the unique requirements of each target.\n",
    "- Create the \"Observation\" objects which are the objects to create the Schedule.\n",
    "- Test the scheduler by creating a simple and short schedule of just 3 observations to see how it works.\n",
    "- Create a more extended sample of Targets to create a simulation of a full night of observations."
   ]
  },
  {
   "cell_type": "markdown",
   "metadata": {},
   "source": [
    "### Imports"
   ]
  },
  {
   "cell_type": "code",
   "execution_count": null,
   "metadata": {},
   "outputs": [],
   "source": [
    "from scopes.scheduler_components import (\n",
    "    Night,\n",
    "    Instrument,\n",
    "    Program,\n",
    "    Merit,\n",
    "    Target,\n",
    "    Observation,\n",
    "    Overheads,\n",
    ")\n",
    "from scopes import merits\n",
    "from scopes import scheduler\n",
    "\n",
    "import matplotlib.pyplot as plt\n",
    "import matplotlib.colors as mcolors\n",
    "import numpy as np\n",
    "from datetime import date\n",
    "from astropy.coordinates import SkyCoord\n",
    "import astroplan"
   ]
  },
  {
   "cell_type": "markdown",
   "metadata": {},
   "source": [
    "Check that you're running the latest version of SCOPES:"
   ]
  },
  {
   "cell_type": "code",
   "execution_count": null,
   "metadata": {},
   "outputs": [],
   "source": [
    "import scopes\n",
    "\n",
    "scopes.__version__"
   ]
  },
  {
   "cell_type": "markdown",
   "metadata": {},
   "source": [
    "### Observer and Night\n",
    "\n",
    "We will start by defining the Observer, that is where in the world our telescope is located, and for which night we want to create a schedule. This is done using the Observer object from the `astroplan` package. For this example we will consider a telescope at the La Silla Observatory in Chile.\n",
    "\n",
    "We then create the Night object for which night we want to create the schedule. This is done by defining the date and within which twilights observations should be considered.\n",
    "\n",
    "NOTE: The `night_date` refers to the date when the night starts at the telescope's location, according to local time. This is important as, depending on the time zone, the UTC date might differ. For instance, if a night in Chile begins at 21:15 hs local time on November 14, 2024, the `night_date` is considered to be November 14, 2024 (even though in UTC this time and date corresponds to 00:15hs on Novemeber 15, 2025)."
   ]
  },
  {
   "cell_type": "code",
   "execution_count": null,
   "metadata": {},
   "outputs": [],
   "source": [
    "# Define observer location\n",
    "observer = astroplan.Observer.at_site(\"La Silla Observatory\")\n",
    "\n",
    "# Define the night\n",
    "night = Night(date(2023, 11, 14), \"nautical\", observer)"
   ]
  },
  {
   "cell_type": "markdown",
   "metadata": {},
   "source": [
    "### Instruments\n",
    "\n",
    "We will the define the instruments that are available at your telescope. In many telescope there might be more than one astronomical instrument to take observations from, like cameras, spectrographs, etc."
   ]
  },
  {
   "cell_type": "code",
   "execution_count": null,
   "metadata": {},
   "outputs": [],
   "source": [
    "# The parameters are:\n",
    "# 1. Name of the instrument\n",
    "# 2. (optional) Type of instrument (this is only for informational purposes)\n",
    "# 3. (optional) Plot color\n",
    "\n",
    "guitar = Instrument(\"Guitar\", \"Spectrograph\")\n",
    "piano = Instrument(\"Piano\", \"Camera\")"
   ]
  },
  {
   "cell_type": "markdown",
   "metadata": {},
   "source": [
    "### Programs\n",
    "\n",
    "SCOPES allows to define different observing programs. This is widely the case in many telescopes where different groups use the telescope for different purposes and thus each group or person has their own observing program with their own set of targets and scientific priorities.\n",
    "\n",
    "These are defined with the `Program` object where the parameters to be given are the program ID, name of the instrument to be used, the proprotion of the total time that is allocated to this program, and optionally with what color this program will be plotted."
   ]
  },
  {
   "cell_type": "code",
   "execution_count": null,
   "metadata": {},
   "outputs": [],
   "source": [
    "# Define color pallette for plotting\n",
    "color_pallette = iter([mcolors.rgb2hex(color) for color in plt.get_cmap(\"Set2\").colors])\n",
    "\n",
    "# The parameters are:\n",
    "# 1. Name of the program\n",
    "# 2. The instrument this program will use\n",
    "# 3. Priority of the program\n",
    "# 4. Time share allocated to the program\n",
    "# 5. (optional) Plot color\n",
    "# Lets use \"GUITAR\" and \"PIANO\" as our two example instruments\n",
    "prog1 = Program(\"prog1\", guitar, 1, 0.1, plot_color=next(color_pallette))\n",
    "prog2 = Program(\"prog2\", guitar, 2, 0.1, plot_color=next(color_pallette))\n",
    "prog3 = Program(\"prog3\", guitar, 2, 0.3, plot_color=next(color_pallette))\n",
    "prog4 = Program(\"prog4\", piano, 3, 0.2, plot_color=next(color_pallette))\n",
    "prog5 = Program(\"prog5\", piano, 2, 0.3, plot_color=next(color_pallette))"
   ]
  },
  {
   "cell_type": "markdown",
   "metadata": {},
   "source": [
    "Now we will tell SCOPES how much time each of these programs have taken up already. This is done by calling the `set_current_time_usage()` method on each program and indicating the current time used by that program (as a percentage of the total time).\n",
    "\n",
    "To simulate a somewhat real situation, lets asume that prog1 and prog3 were observed less than was allocated to them, prog4 is close to even, while prog2 and prog5 were observed more than the time they were allocated."
   ]
  },
  {
   "cell_type": "code",
   "execution_count": null,
   "metadata": {},
   "outputs": [],
   "source": [
    "prog1.set_current_time_usage(0.15)\n",
    "# prog2.set_current_time_usage(0.13)\n",
    "prog3.set_current_time_usage(0.35)\n",
    "prog4.set_current_time_usage(0.10)\n",
    "# prog5.set_current_time_usage(0.39)"
   ]
  },
  {
   "cell_type": "markdown",
   "metadata": {},
   "source": [
    "## Merits\n",
    "\n",
    "Now we will define the set of merits we will be using. Some standard merit functions can be found in the `scopes.merits` module, but custom ones can be defined as well.\n",
    "\n",
    "The Merit class takes three mandatory arguments, `name`, `func`, and `merit_type`. `func` is the function that actually computes the merit from an observation, `merit_type` tells the scheduler how to use the merit in the rank function, i.e. if its a fariness, veto, or efficiency merit. Then the optional `paramteres` arguments gives the function any additional keyword arguments for that merit. This allows to create merits that use the same merit function but with a different set of parameters."
   ]
  },
  {
   "cell_type": "code",
   "execution_count": null,
   "metadata": {},
   "outputs": [],
   "source": [
    "night.civil_evening"
   ]
  },
  {
   "cell_type": "code",
   "execution_count": null,
   "metadata": {},
   "outputs": [],
   "source": [
    "# We will start with the basic observability merits like limits on the airmass, altitude, and time of night.\n",
    "\n",
    "# Lets define a merit for the airmass setting a maximum of 1.8\n",
    "airmass_merit_18 = Merit(\n",
    "    \"Airmass\", merits.airmass, merit_type=\"veto\", parameters={\"limit\": 1.8}\n",
    ")\n",
    "\n",
    "# Lets define a merit for the airmass setting a maximum of 1.5\n",
    "airmass_merit_15 = Merit(\n",
    "    \"Airmass\", merits.airmass, merit_type=\"veto\", parameters={\"limit\": 1.5}\n",
    ")\n",
    "\n",
    "# Lets define a merit for the altitude. These are usually set by the hardware limits of the telescope.\n",
    "# In this exmaple we will use a minimum of 20 and a maximum of 87 degrees (to avoid the zenith\n",
    "# which can cause tracking issues in telescopes with an altazimuth mount)\n",
    "altitude_merit = Merit(\n",
    "    \"Altitude\", merits.altitude, merit_type=\"veto\", parameters={\"min\": 20, \"max\": 87}\n",
    ")\n",
    "\n",
    "# Lets define a merit for the time of night. These limits are used from the Night object we created above.\n",
    "at_night_merit = Merit(\"AtNight\", merits.at_night, merit_type=\"veto\")\n",
    "\n",
    "# Now we will define a merit for the moon separation. This merit will ensure that the moon is at least\n",
    "# 30 degrees away from the target.\n",
    "moon_sep_merit = Merit(\n",
    "    \"MoonSep\",\n",
    "    merits.moon_separation,\n",
    "    merit_type=\"veto\",\n",
    "    parameters={\"theta_lim\": 20, \"theta_start\": 30, \"alpha\": 3},\n",
    ")\n",
    "\n",
    "# The Culmination merit is used to ensure observations are done close to the culmination of the target in the sky.\n",
    "culmapping_merit = Merit(\n",
    "    \"CulMapping\", merits.culmination_efficiency, merit_type=\"efficiency\"\n",
    ")\n",
    "\n",
    "phase_merit = Merit(\n",
    "    \"PhaseSpecefic\",\n",
    "    merits.phase_specific,\n",
    "    merit_type=\"efficiency\",\n",
    "    parameters={\"period\": 1, \"epoch\": 2460263.48618, \"phases\": [0.1], \"sigma\": 0.2},\n",
    ")\n",
    "\n",
    "# Lastly, we will deifne a fairness merit for the time share. This merit ensures that programs\n",
    "# respect the time share they are given.\n",
    "timeshare_merit = Merit(\"Timeshare\", merits.time_share, merit_type=\"fairness\")\n",
    "priority_merit = Merit(\"Priority\", merits.priority, merit_type=\"fairness\")"
   ]
  },
  {
   "cell_type": "markdown",
   "metadata": {},
   "source": [
    "Lets define two sets of merits to use later"
   ]
  },
  {
   "cell_type": "code",
   "execution_count": null,
   "metadata": {},
   "outputs": [],
   "source": [
    "merits1 = [\n",
    "    airmass_merit_18,\n",
    "    altitude_merit,\n",
    "    at_night_merit,\n",
    "    # moon_sep_merit,\n",
    "    culmapping_merit,\n",
    "    timeshare_merit,\n",
    "    priority_merit,\n",
    "    phase_merit,\n",
    "]\n",
    "\n",
    "merits2 = [\n",
    "    airmass_merit_15,\n",
    "    altitude_merit,\n",
    "    at_night_merit,\n",
    "    # moon_sep_merit,\n",
    "    culmapping_merit,\n",
    "    timeshare_merit,\n",
    "    priority_merit,\n",
    "]"
   ]
  },
  {
   "cell_type": "markdown",
   "metadata": {},
   "source": [
    "### Set up the Overheads object\n",
    "\n",
    "The `Overheads` defines all the overheads that your telescope has when transitioning from one observation to the next. The basic overhead common to all telescopes is the slew time that the telescope takes to move from one position in the sky to the next. \n",
    "\n",
    "Then custom overheads can be defined and added to the object. Here any type of overhead can be defined using the properties of the Observations, Targets, Instruments, etc. For the overhead function to be valid is has to have two parameters called `observation1` and `observation2`, where the transition time will be from `observation1` to `observation2`.\n",
    "\n",
    "When you add your custom overhead function to the Overhead object you can indicate if this overhead time can overlap with the slew time. Meaning if it happens in parallel as the telescope is moving from one position to the next.\n",
    "\n",
    "If more than one custom overhead is added they are assumed to happen in sequence.\n",
    "\n",
    "NOTE: This could be improved as the overhead calculation might be complicated. Ideas are welcome."
   ]
  },
  {
   "cell_type": "code",
   "execution_count": null,
   "metadata": {},
   "outputs": [],
   "source": [
    "# We start by initializing the Overheads object with the slew rates of the telescope.\n",
    "# In this example we will use a slew rate of 2 degrees per second in both axes.\n",
    "overheads = Overheads(slew_rate_az=1, slew_rate_alt=2)\n",
    "\n",
    "\n",
    "# We will now define a custom overhead related to the change of instrumnet.\n",
    "# The overhead function has to take two observations (observation1 and observation2) as input\n",
    "# and return the overhead time in seconds.\n",
    "def change_instrument_overhead(observation1: Observation, observation2: Observation):\n",
    "    if observation1.target.program.instrument != observation2.target.program.instrument:\n",
    "        # In this telescope it takes 170 seconds to change the instrument in either direction\n",
    "        # You can define a more complex function here if you want to have different overheads\n",
    "        # For example if the change from a camera to a spectrograph might take longer or viceversa\n",
    "        return 150\n",
    "    else:\n",
    "        return 0\n",
    "\n",
    "\n",
    "# We add this overhead to the Overheads object\n",
    "overheads.add_overhead(change_instrument_overhead, can_overlap_with_slew=True)"
   ]
  },
  {
   "cell_type": "markdown",
   "metadata": {},
   "source": [
    "## Targets and Observations\n",
    "\n",
    "Next we will define the targets to be observed by creating Target objects and then Observation Objects.\n",
    "\n",
    "The `Target` object contain information about the target itself, like its name, coordinates, which program it is part of, its priority and most importantly its individual merit functions which determine how the target should be observed.\n",
    "\n",
    "The `Observation` object takes a target as input and adds the exposure time. The reason the Target and Observation objects are distinct is to allow the posisblity to create more than one observation for the same target if needed.\n",
    "\n",
    "**In this tutorial we will create simulated targets, but in this section is where one would actually load the actual targets that want to be observed.**"
   ]
  },
  {
   "cell_type": "markdown",
   "metadata": {},
   "source": [
    "### Simple case\n",
    "\n",
    "Let's start with just 3 targets to see how SCOPES puts the obesrvations together into a schedule."
   ]
  },
  {
   "cell_type": "code",
   "execution_count": null,
   "metadata": {},
   "outputs": [],
   "source": [
    "# We are going to use a start time of just less than the middle of the night\n",
    "(night.night_time_range[0].jd + night.night_time_range[-1].jd) / 2"
   ]
  },
  {
   "cell_type": "code",
   "execution_count": null,
   "metadata": {},
   "outputs": [],
   "source": [
    "# We create the Target object with the name, program, coordinates, and priority\n",
    "star1 = Target(\"Star1\", prog1, SkyCoord(45, -50, unit=\"deg\"), priority=1)\n",
    "# We add the merits we want to the target, in this case we are using the merits1 list we defined above\n",
    "star1.add_merits(merits1)\n",
    "star2 = Target(\"Star2\", prog1, SkyCoord(52, -50, unit=\"deg\"), priority=1)\n",
    "star2.add_merits(merits1)\n",
    "star3 = Target(\"Star3\", prog1, SkyCoord(60, -50, unit=\"deg\"), priority=1)\n",
    "star3.add_merits(merits1)\n",
    "\n",
    "# We define an exposure time for the observations\n",
    "# In this case we will use 1800 seconds (30 minutes)\n",
    "exp_time1 = 1800\n",
    "obs1 = Observation(star1, exp_time1)\n",
    "obs2 = Observation(star2, exp_time1)\n",
    "obs3 = Observation(star3, exp_time1)\n",
    "test_obs = [obs1, obs2, obs3]"
   ]
  },
  {
   "cell_type": "code",
   "execution_count": null,
   "metadata": {},
   "outputs": [],
   "source": [
    "# Initialize the scheduler\n",
    "gQ_scheduler = scheduler.generateQ(\n",
    "    night, test_obs, overheads, plan_start_time=2460263.66\n",
    ")"
   ]
  },
  {
   "cell_type": "markdown",
   "metadata": {},
   "source": [
    "NOTE: Implement end of plan as a precise time"
   ]
  },
  {
   "cell_type": "code",
   "execution_count": null,
   "metadata": {},
   "outputs": [],
   "source": [
    "# Run the scheduler and create the plan\n",
    "test_plan = gQ_scheduler.run(max_plan_length=None, K=2)"
   ]
  },
  {
   "cell_type": "code",
   "execution_count": null,
   "metadata": {},
   "outputs": [],
   "source": [
    "test_plan.print_stats()"
   ]
  },
  {
   "cell_type": "code",
   "execution_count": null,
   "metadata": {},
   "outputs": [],
   "source": [
    "print(test_plan)"
   ]
  },
  {
   "cell_type": "code",
   "execution_count": null,
   "metadata": {},
   "outputs": [],
   "source": [
    "test_plan.plot()"
   ]
  },
  {
   "cell_type": "markdown",
   "metadata": {},
   "source": [
    "We see that the scheduler has put the observations in the correct order to maximise the airmass of each."
   ]
  },
  {
   "cell_type": "markdown",
   "metadata": {},
   "source": [
    "### Full night schedule\n",
    "\n",
    "Now let's create a full night schedule with stars from all programs and instruments"
   ]
  },
  {
   "cell_type": "code",
   "execution_count": null,
   "metadata": {},
   "outputs": [],
   "source": [
    "# Generate random star coordinates\n",
    "np.random.seed(1)\n",
    "ntars = 100\n",
    "\n",
    "# Right ascension angle range that is visible from La Silla on the night of 2023-11-14 is roughly\n",
    "# between 0 and 160, and 300 to 360 degrees\n",
    "ra = np.random.uniform(300, 520, size=ntars) % 360\n",
    "dec = -np.rad2deg(np.arcsin(np.random.uniform(0, 1, size=ntars)))\n",
    "\n",
    "# We will initialize the observations start time at the start of the night\n",
    "start_time = night.night_time_range[0].jd\n",
    "\n",
    "\n",
    "# Create Observations objects\n",
    "def create_tars_and_obs(prog, idx_range, merits):\n",
    "    observations = []\n",
    "    for i in range(idx_range[0], idx_range[1]):\n",
    "        # Get the coordinates for the target\n",
    "        coord = SkyCoord(ra[i], dec[i], unit=\"deg\")\n",
    "        # Create the Target object with a random priority\n",
    "        target = Target(f\"Target{i}\", prog, coord, np.random.randint(0, 4))\n",
    "        # Add the merits to the target\n",
    "        target.add_merits(merits)\n",
    "\n",
    "        # Create the observation\n",
    "\n",
    "        exposure_time = np.random.randint(300, 1200)\n",
    "        # exposure_time = 900  # seconds\n",
    "        observation = Observation(target, exposure_time)\n",
    "        observations.append(observation)\n",
    "    return observations"
   ]
  },
  {
   "cell_type": "markdown",
   "metadata": {},
   "source": [
    "Now lets create the Observations for each program. Let's assume that prog1 and prog2 need their targets to be observed at a maximum airmass of 1.5 as they need a good SNR. In contrast, prog3, prog4, and prog5 are not that sensitive to SNR and allows their targets to be observed up to an airmass of 1.8."
   ]
  },
  {
   "cell_type": "code",
   "execution_count": null,
   "metadata": {},
   "outputs": [],
   "source": [
    "obs_prog1 = create_tars_and_obs(prog1, (0, 20), merits1)\n",
    "obs_prog2 = create_tars_and_obs(prog2, (20, 40), merits1)\n",
    "obs_prog3 = create_tars_and_obs(prog3, (40, 60), merits1)\n",
    "obs_prog4 = create_tars_and_obs(prog4, (60, 80), merits2)\n",
    "obs_prog5 = create_tars_and_obs(prog5, (80, 100), merits2)\n",
    "\n",
    "all_obs = obs_prog1 + obs_prog2 + obs_prog3 + obs_prog4 + obs_prog5"
   ]
  },
  {
   "cell_type": "markdown",
   "metadata": {},
   "source": [
    "## Scheduling the night\n",
    "\n",
    "We have set up everything we need to now create the night sschedule based on the observations we created.\n",
    "\n",
    "To do this we will initialize a Scheduler object from the `scopes.scheudler` module. To start we will use the simple generateQ scheduler which works based on a simple greedy search algorithms which works sequentially from the beginning of the night and always chooses the best scoring observation as the next observation to do."
   ]
  },
  {
   "cell_type": "code",
   "execution_count": null,
   "metadata": {},
   "outputs": [],
   "source": [
    "# Initialize the scheduler\n",
    "# Leaving the plan_start_time as None will set it to the start of the observable night\n",
    "gQ_scheduler = scheduler.generateQ(night, all_obs, overheads)"
   ]
  },
  {
   "cell_type": "code",
   "execution_count": null,
   "metadata": {},
   "outputs": [],
   "source": [
    "# Run the scheduler and create the plan\n",
    "plan = gQ_scheduler.run(max_plan_length=None, K=3)"
   ]
  },
  {
   "cell_type": "code",
   "execution_count": null,
   "metadata": {},
   "outputs": [],
   "source": [
    "plan.print_stats()"
   ]
  },
  {
   "cell_type": "markdown",
   "metadata": {},
   "source": [
    "A plan can be printed by simply calling `print()` on it:"
   ]
  },
  {
   "cell_type": "code",
   "execution_count": null,
   "metadata": {},
   "outputs": [],
   "source": [
    "print(plan)"
   ]
  },
  {
   "cell_type": "markdown",
   "metadata": {},
   "source": [
    "This table can be obtained directly by using the .to_df() method which return a pandas DataFrame with the plan details."
   ]
  },
  {
   "cell_type": "code",
   "execution_count": null,
   "metadata": {},
   "outputs": [],
   "source": [
    "plan.to_df()"
   ]
  },
  {
   "cell_type": "markdown",
   "metadata": {},
   "source": [
    "A plan can be saved to a CSV file by callin its `.to_csv()` method. This method calls the to_csv() method of the corresponding pandas DataFrame, which means this method can take any argument that the `pd.DataFrame.to_csv()` method can take."
   ]
  },
  {
   "cell_type": "code",
   "execution_count": null,
   "metadata": {},
   "outputs": [],
   "source": [
    "plan.to_csv(\"../test_plan.csv\")"
   ]
  },
  {
   "cell_type": "code",
   "execution_count": null,
   "metadata": {},
   "outputs": [],
   "source": [
    "plan.plot(path=\"../documentation/plan_plot.png\")"
   ]
  },
  {
   "cell_type": "code",
   "execution_count": null,
   "metadata": {},
   "outputs": [],
   "source": [
    "plan.plot_polar()"
   ]
  },
  {
   "cell_type": "code",
   "execution_count": null,
   "metadata": {},
   "outputs": [],
   "source": [
    "plan.plot_altaz()"
   ]
  },
  {
   "cell_type": "markdown",
   "metadata": {},
   "source": [
    "### Scheduling only a part of the night\n",
    "\n",
    "Let's say that we only want to schedule a part of the night. In that case we can add start and end times for the schedule and it will only schedule observations between the two selected times.\n",
    "\n",
    "These variables (`plan_start_time` and `plan_end_time`) are optional and their default values are the start and end of the observable night respectively. So you can also only indicate a start time and schedule until the end of the night, or inversly, ony indicate and end time in which case it will schedule fromthe beginning of the night until the indicated time."
   ]
  },
  {
   "cell_type": "code",
   "execution_count": null,
   "metadata": {},
   "outputs": [],
   "source": [
    "night.obs_within_limits"
   ]
  },
  {
   "cell_type": "code",
   "execution_count": null,
   "metadata": {},
   "outputs": [],
   "source": [
    "# Initialize the scheduler\n",
    "# Leaving the plan_start_time as None will set it to the start of the observable night\n",
    "gQ_scheduler = scheduler.generateQ(\n",
    "    night, all_obs, overheads, plan_start_time=2460263.6, plan_end_time=2460263.75\n",
    ")"
   ]
  },
  {
   "cell_type": "code",
   "execution_count": null,
   "metadata": {},
   "outputs": [],
   "source": [
    "# Run the scheduler and create the plan\n",
    "subplan = gQ_scheduler.run(K=5)"
   ]
  },
  {
   "cell_type": "code",
   "execution_count": null,
   "metadata": {},
   "outputs": [],
   "source": [
    "subplan.print_stats()"
   ]
  },
  {
   "cell_type": "code",
   "execution_count": null,
   "metadata": {},
   "outputs": [],
   "source": [
    "print(subplan)"
   ]
  },
  {
   "cell_type": "code",
   "execution_count": null,
   "metadata": {},
   "outputs": [],
   "source": [
    "subplan.plot()"
   ]
  },
  {
   "cell_type": "code",
   "execution_count": null,
   "metadata": {},
   "outputs": [],
   "source": [
    "subplan.plot_polar()"
   ]
  },
  {
   "cell_type": "code",
   "execution_count": null,
   "metadata": {},
   "outputs": [],
   "source": [
    "subplan.plot_altaz()"
   ]
  },
  {
   "cell_type": "markdown",
   "metadata": {},
   "source": [
    "## Test different schedulers"
   ]
  },
  {
   "cell_type": "markdown",
   "metadata": {},
   "source": [
    "**ATTENTION: These are experimental schedulers that can be slow and lower performing than the standard `generateQ` scheduler**\n",
    "\n",
    "Let's try some other type of scheduling algorithms. These can be created customly by creating a new class that inherits from the base `Scheduler` class and includes a `run()` method that creates a Plan from the provided list of observations.\n",
    "\n",
    "Here we will test the Dynamic Programming Planner (`DPPlanner`) and the `BeamSearchPlanner` schedulers."
   ]
  },
  {
   "cell_type": "markdown",
   "metadata": {},
   "source": [
    "### Dynamic Programming Planner (`DPPlanner`)"
   ]
  },
  {
   "cell_type": "code",
   "execution_count": null,
   "metadata": {},
   "outputs": [],
   "source": [
    "# Initialize the scheduler\n",
    "# Leaving the plan_start_time as None will set it to the start of the observable night\n",
    "dp_scheduler = scheduler.DPPlanner(night, all_obs, overheads)"
   ]
  },
  {
   "cell_type": "code",
   "execution_count": null,
   "metadata": {},
   "outputs": [],
   "source": [
    "# Reset the DP scheduler by clearing the cache (only needed when re-running the scheduler)\n",
    "dp_scheduler.reset_dp()\n",
    "# Run the scheduler and create the plan\n",
    "plan_dp = dp_scheduler.run(max_plan_length=10, K=2)"
   ]
  },
  {
   "cell_type": "code",
   "execution_count": null,
   "metadata": {},
   "outputs": [],
   "source": [
    "plan_dp.print_stats()"
   ]
  },
  {
   "cell_type": "code",
   "execution_count": null,
   "metadata": {},
   "outputs": [],
   "source": [
    "print(plan_dp)"
   ]
  },
  {
   "cell_type": "code",
   "execution_count": null,
   "metadata": {},
   "outputs": [],
   "source": [
    "plan_dp.plot()"
   ]
  },
  {
   "cell_type": "markdown",
   "metadata": {},
   "source": [
    "### Beam Search Planner (`BeamSearchPlanner`)\n",
    "\n",
    "The BeamSearchPlanner algorithm can be visualized as navigating a decision tree where each node represents a potential observation plan, and each branch signifies adding an observation. Starting from the root (an empty plan), the algorithm explores various branches, but instead of examining every possible path, it employs a \"beam\" strategy to keep only the top K most promising branches at each level, effectively pruning the rest. This selective exploration ensures that the tree does not grow too large and unwieldy, focusing computational resources on extending only the most promising plans. As the algorithm progresses down the tree, it continuously evaluates and updates the best plan based on a scoring system, until it either reaches the maximum plan length or no further promising branches exist, culminating in the most optimal schedule of observations within the given constraints."
   ]
  },
  {
   "cell_type": "code",
   "execution_count": null,
   "metadata": {},
   "outputs": [],
   "source": [
    "# Initialize the scheduler\n",
    "# Leaving the plan_start_time as None will set it to the start of the observable night\n",
    "bs_scheduler = scheduler.BeamSearchPlanner(night, all_obs, overheads)"
   ]
  },
  {
   "cell_type": "code",
   "execution_count": null,
   "metadata": {},
   "outputs": [],
   "source": [
    "# Run the scheduler and create the plan\n",
    "bs_plan = bs_scheduler.run(max_plan_length=10, K=5)"
   ]
  },
  {
   "cell_type": "code",
   "execution_count": null,
   "metadata": {},
   "outputs": [],
   "source": [
    "bs_plan.print_stats()"
   ]
  },
  {
   "cell_type": "code",
   "execution_count": null,
   "metadata": {},
   "outputs": [],
   "source": [
    "print(bs_plan)"
   ]
  },
  {
   "cell_type": "code",
   "execution_count": null,
   "metadata": {},
   "outputs": [],
   "source": [
    "bs_plan.plot()"
   ]
  },
  {
   "cell_type": "code",
   "execution_count": null,
   "metadata": {},
   "outputs": [],
   "source": []
  }
 ],
 "metadata": {
  "kernelspec": {
   "display_name": "py311",
   "language": "python",
   "name": "python3"
  },
  "language_info": {
   "codemirror_mode": {
    "name": "ipython",
    "version": 3
   },
   "file_extension": ".py",
   "mimetype": "text/x-python",
   "name": "python",
   "nbconvert_exporter": "python",
   "pygments_lexer": "ipython3",
   "version": "3.8.19"
  }
 },
 "nbformat": 4,
 "nbformat_minor": 2
}
