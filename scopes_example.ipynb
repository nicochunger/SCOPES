{
 "cells": [
  {
   "cell_type": "markdown",
   "metadata": {},
   "source": [
    "# A simple example on how to use `scopes`\n",
    "\n",
    "In this tutorial you will learn the basic functionality of scopes and how to set everything up to use it.\n",
    "\n",
    "## Topics\n",
    "\n",
    "- Construct the \"Night\" object to designate the specific night of the year for which the schedule is to be created.\n",
    "- Establish the observing programs, outlining their specific objectives and parameters.\n",
    "- Determine the merits to be utilized, ensuring they align with the objectives of the observing programs.\n",
    "- Create the \"Target\" objects, assigning appropriate merits based on the unique requirements of each target.\n",
    "- Create the \"Observation\" objects, detailing the specifics of each observation.\n",
    "- Compile a preliminary night schedule using the created observations, forming an organized plan for the designated night."
   ]
  },
  {
   "cell_type": "code",
   "execution_count": 1,
   "metadata": {},
   "outputs": [],
   "source": [
    "from scopes.scheduler_components import Night, Program, Merit, Target, Observation\n",
    "from scopes import merits\n",
    "from scopes import scheduler\n",
    "\n",
    "import matplotlib.pyplot as plt\n",
    "import matplotlib.colors as mcolors\n",
    "import numpy as np\n",
    "from datetime import date, timedelta\n",
    "from astropy.coordinates import SkyCoord\n",
    "import astroplan"
   ]
  },
  {
   "cell_type": "markdown",
   "metadata": {},
   "source": [
    "### Observer and Night\n",
    "\n",
    "We will start by defining the Observer, that is where in the world our telescope is located, and for which night we want to create a schedule. This is done using the Observer object from the astroplan package. For this example we will consider a telescope at the La Silla Observatory in Chile.\n",
    "\n",
    "We then create the Night object for which night we want to create the schedule. This is done by defining the date, within which twilights observations should be considered"
   ]
  },
  {
   "cell_type": "code",
   "execution_count": 2,
   "metadata": {},
   "outputs": [],
   "source": [
    "# Define observer location\n",
    "observer = astroplan.Observer.at_site(\"lasilla\")\n",
    "\n",
    "# Define the night\n",
    "night = Night(date(2023, 11, 14), \"nautical\", observer)"
   ]
  },
  {
   "cell_type": "markdown",
   "metadata": {},
   "source": [
    "### Programs\n",
    "\n",
    "SCOPES allows to define different observing programs. This is widely the case in many telescopes where different groups use the telescope for different purposes and thus each group or person has their own observing program with their own set of targets and scientific priorities.\n",
    "\n",
    "These are defined with the Program object where the parameters to be given are the program ID, name of the isntrument to be used, the proprotion of the total time that is allocated to this program, and optionally with what color this program will be plotted."
   ]
  },
  {
   "cell_type": "code",
   "execution_count": 3,
   "metadata": {},
   "outputs": [],
   "source": [
    "# Define color pallette for plotting\n",
    "color_pallette = iter([mcolors.rgb2hex(color) for color in plt.get_cmap(\"Set2\").colors])\n",
    "\n",
    "# Lets use \"CAR\" and \"BIKE\" as our two example instruments\n",
    "prog1 = Program(\"prog1\", \"CAR\", 0.1, 1, plot_color=next(color_pallette))\n",
    "prog2 = Program(\"prog2\", \"CAR\", 0.1, 2, plot_color=next(color_pallette))\n",
    "prog3 = Program(\"prog3\", \"CAR\", 0.3, 2, plot_color=next(color_pallette))\n",
    "prog4 = Program(\"prog4\", \"BIKE\", 0.2, 3, plot_color=next(color_pallette))\n",
    "prog5 = Program(\"prog5\", \"BIKE\", 0.3, 2, plot_color=next(color_pallette))"
   ]
  },
  {
   "cell_type": "markdown",
   "metadata": {},
   "source": [
    "Now we will tell the scopes how much time each of these programs have taken up already. This is done by calling the `update_time_share()` method on each program and indicating the current time used by that program (as a percentage of the total time).\n",
    "\n",
    "To simulate a somwwhat real situation, lets asume that prog1 and prog3 were observed less than was allocated to them, prog4 is close to even, while prog2 and prog5 were observed more than the time they were allocated."
   ]
  },
  {
   "cell_type": "code",
   "execution_count": null,
   "metadata": {},
   "outputs": [],
   "source": [
    "prog1.update_time_share(0.09)"
   ]
  },
  {
   "cell_type": "markdown",
   "metadata": {},
   "source": [
    "## Merits\n",
    "\n",
    "Now we will define the set of merits we will be using. Some standard merit functions can be found in the `scopes.merits` module, but custom ones can be defined as well.\n",
    "\n",
    "The Merit class takes three mandatory arguments, `name`, `func`, and `merit_type`. `func` is the function that actually computes the merit from an observation, `merit_type` tells the scheduler how to use the merit in the rank function, i.e. if its a fariness, veto, or efficiency merit. Then the optional `paramteres` arguments gives the function any additional keyword arguments for that merit. This allows to create merits that use the same merit function but with a different set of parameters."
   ]
  },
  {
   "cell_type": "code",
   "execution_count": 9,
   "metadata": {},
   "outputs": [],
   "source": [
    "# We will start with the basic observability merits like limits on the airmass, altitude, and time of night.\n",
    "\n",
    "# Lets define a merit for the airmass setting a maximum of 1.8\n",
    "airmass_merit_18 = Merit(\n",
    "    \"Airmass\", merits.airmass, merit_type=\"veto\", parameters={\"max\": 1.8}\n",
    ")\n",
    "\n",
    "# Lets define a merit for the airmass setting a maximum of 1.5\n",
    "airmass_merit_15 = Merit(\n",
    "    \"Airmass\", merits.airmass, merit_type=\"veto\", parameters={\"max\": 1.5}\n",
    ")\n",
    "\n",
    "# Lets define a merit for the altitude. These are usually set by the hardware limits of the telescope.\n",
    "# In this exmaple we will use a minimum of 20 and a maximum of 87 degrees (to avoid the zenith\n",
    "# which can cause tracking issues in telescopes with an altazimuth mount)\n",
    "altitude_merit = Merit(\n",
    "    \"Altitude\", merits.altitude, merit_type=\"veto\", parameters={\"min\": 20, \"max\": 87}\n",
    ")\n",
    "# Lets define a merit for the time of night. These limits are used from the Night object we created above.\n",
    "at_night_merit = Merit(\"AtNight\", merits.at_night, merit_type=\"veto\")\n",
    "\n",
    "# The Culmination merit is used to ensure observations are done close to the culmination of the target in the sky.\n",
    "culmapping_merit = Merit(\n",
    "    \"CulMapping\", merits.culmination_mapping, merit_type=\"efficiency\"\n",
    ")\n",
    "\n",
    "# Lastly, we will deifne a fairness merit for the time share. This merit ensures that programs\n",
    "# respect the time share they are given.\n",
    "timeshare_merit = Merit(\"Timeshare\", merits.time_share, merit_type=\"fairness\")\n",
    "priority_merit = Merit(\"Priority\", merits.priority, merit_type=\"fairness\")"
   ]
  },
  {
   "cell_type": "markdown",
   "metadata": {},
   "source": [
    "## Targets and Observations\n",
    "\n",
    "Next we will define the targets to be observed by creating Target objects and then Observation Objects.\n",
    "\n",
    "The Target object contain information about the target itself, like its name, coordinates, which program it is part of, its priority and most importantly its individual merit functions which determine how the target should be observed.\n",
    "\n",
    "The observatio object takes a target as input and adds the information (like when it is observed and its exposure time) and logic to actually schedule the observation at an appropiate time. The reason the Target and Observation objects are distinct is to allow the posisblity to create more than one observation for the same target if needed.\n",
    "\n",
    "**In this tutorial we will create simulated targets, but in this section is where one would actually load the actual targets that want to be observed.**"
   ]
  },
  {
   "cell_type": "code",
   "execution_count": 10,
   "metadata": {},
   "outputs": [],
   "source": [
    "# Generate random star coordinates\n",
    "np.random.seed(0)\n",
    "ntars = 100\n",
    "ra = np.random.uniform(0, 360, size=ntars)\n",
    "dec = np.rad2deg(np.arccos(np.random.uniform(0, 1, size=ntars)))\n",
    "\n",
    "# We will initialize the observations start time at the start of the night\n",
    "start_time = night.night_time_range[0].jd\n",
    "\n",
    "\n",
    "# Create Observations objects\n",
    "def create_tars_and_obs(prog, idx_range, merits):\n",
    "    observations = []\n",
    "    for i in range(idx_range[0], idx_range[1]):\n",
    "        # Get the coordinates for the target\n",
    "        coord = SkyCoord(ra[i], dec[i], unit=\"deg\")\n",
    "        # Create the Target object with a random priority\n",
    "        target = Target(f\"Target{i}\", prog, coord, np.random.randint(0, 4))\n",
    "        # Add the merits to the target\n",
    "        target.add_merits(merits)\n",
    "\n",
    "        # Create the observation\n",
    "        exposure_time = 900 / 86400  # 900 seconds in units of days\n",
    "        observation = Observation(target, start_time, exposure_time, night)\n",
    "        observations.append(observation)\n",
    "    return observations"
   ]
  },
  {
   "cell_type": "markdown",
   "metadata": {},
   "source": [
    "Now lets create the Observations for each program. Let's assume that prog1 and prog2 need their targets to be observed at a maximum airmass of 1.5 as they need a good SNR. In contrast, prog3, prog4, and prog5 are not that sensitive to SNR and allows their targets to be observed up to an airmass of 1.8."
   ]
  },
  {
   "cell_type": "code",
   "execution_count": 11,
   "metadata": {},
   "outputs": [
    {
     "name": "stderr",
     "output_type": "stream",
     "text": [
      "WARNING: TargetNeverUpWarning: Target with index 0 does not cross horizon=10.0 deg within 24 hours [astroplan.observer]\n"
     ]
    }
   ],
   "source": [
    "merits1 = [\n",
    "    airmass_merit_18,\n",
    "    altitude_merit,\n",
    "    at_night_merit,\n",
    "    culmapping_merit,\n",
    "    timeshare_merit,\n",
    "    priority_merit,\n",
    "]\n",
    "\n",
    "merits2 = [\n",
    "    airmass_merit_15,\n",
    "    altitude_merit,\n",
    "    at_night_merit,\n",
    "    culmapping_merit,\n",
    "    timeshare_merit,\n",
    "    priority_merit,\n",
    "]\n",
    "\n",
    "obs_prog1 = create_tars_and_obs(prog1, (0, 20), merits1)\n",
    "obs_prog2 = create_tars_and_obs(prog2, (20, 40), merits1)\n",
    "obs_prog3 = create_tars_and_obs(prog3, (40, 60), merits2)\n",
    "obs_prog4 = create_tars_and_obs(prog4, (60, 80), merits2)\n",
    "obs_prog5 = create_tars_and_obs(prog5, (80, 100), merits2)"
   ]
  },
  {
   "cell_type": "markdown",
   "metadata": {},
   "source": [
    "## Scheduling the night\n",
    "\n",
    "We have set up everything we need to now create the night sschedule based on the observations we created.\n",
    "\n",
    "To do this we will initialize a Scheduler object from the `scopes.scheudler` module. To start we will use the simple generateQ scheduler which works based on a simple greedy search algorithms which works sequentially from the beginning of the night and always chooses the best scoring observation as the next observation to do."
   ]
  },
  {
   "cell_type": "code",
   "execution_count": 13,
   "metadata": {},
   "outputs": [
    {
     "data": {
      "text/plain": [
       "Target(Name: Target0,\n",
       "       Program: prog1,\n",
       "       Coordinates: (197.573, 47.327),\n",
       "       Priority: 2,\n",
       "       Fairness Merits: [Merit(Timeshare, fairness, {}), Merit(Priority, fairness, {})],\n",
       "       Veto Merits: [Merit(Airmass, veto, {'max': 1.8}), Merit(Altitude, veto, {'min': 20, 'max': 87}), Merit(AtNight, veto, {})],\n",
       "       Efficiency Merits: [Merit(CulMapping, efficiency, {})])"
      ]
     },
     "execution_count": 13,
     "metadata": {},
     "output_type": "execute_result"
    }
   ],
   "source": []
  },
  {
   "cell_type": "code",
   "execution_count": null,
   "metadata": {},
   "outputs": [],
   "source": []
  }
 ],
 "metadata": {
  "kernelspec": {
   "display_name": "py311",
   "language": "python",
   "name": "python3"
  },
  "language_info": {
   "codemirror_mode": {
    "name": "ipython",
    "version": 3
   },
   "file_extension": ".py",
   "mimetype": "text/x-python",
   "name": "python",
   "nbconvert_exporter": "python",
   "pygments_lexer": "ipython3",
   "version": "3.11.5"
  }
 },
 "nbformat": 4,
 "nbformat_minor": 2
}
